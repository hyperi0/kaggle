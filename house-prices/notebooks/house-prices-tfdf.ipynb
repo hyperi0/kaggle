{
 "cells": [
  {
   "cell_type": "code",
   "execution_count": 1,
   "metadata": {},
   "outputs": [],
   "source": [
    "import pandas as pd\n",
    "import numpy as np\n",
    "\n",
    "import tensorflow as tf\n",
    "import tensorflow_decision_forests as tfdf"
   ]
  },
  {
   "cell_type": "code",
   "execution_count": 8,
   "metadata": {},
   "outputs": [],
   "source": [
    "train_df = pd.read_csv(\"../data/train.csv\").drop(columns=\"Id\")\n",
    "test_df = pd.read_csv(\"../data/test.csv\")\n",
    "test_ids = test_df.pop(\"Id\")"
   ]
  },
  {
   "cell_type": "code",
   "execution_count": 9,
   "metadata": {},
   "outputs": [],
   "source": [
    "train_ds = tfdf.keras.pd_dataframe_to_tf_dataset(train_df,\n",
    "                                                 label=\"SalePrice\",\n",
    "                                                 task=tfdf.keras.Task.REGRESSION)\n",
    "\n",
    "test_ds = tfdf.keras.pd_dataframe_to_tf_dataset(test_df,\n",
    "                                                 task=tfdf.keras.Task.REGRESSION)"
   ]
  },
  {
   "cell_type": "code",
   "execution_count": 10,
   "metadata": {},
   "outputs": [
    {
     "name": "stdout",
     "output_type": "stream",
     "text": [
      "Use /var/folders/ky/f89knrjx5953hm2lrfqmdxr80000gn/T/tmp_jo2b1kd as temporary training directory\n"
     ]
    }
   ],
   "source": [
    "model = tfdf.keras.RandomForestModel(task=tfdf.keras.Task.REGRESSION)"
   ]
  },
  {
   "cell_type": "code",
   "execution_count": 11,
   "metadata": {},
   "outputs": [
    {
     "name": "stdout",
     "output_type": "stream",
     "text": [
      "Reading training dataset...\n",
      "Training dataset read in 0:00:00.498469. Found 1460 examples.\n",
      "Training model...\n",
      "Model trained in 0:00:00.825943\n",
      "Compiling model...\n"
     ]
    },
    {
     "name": "stderr",
     "output_type": "stream",
     "text": [
      "[INFO 23-07-06 15:20:37.2054 EDT kernel.cc:1243] Loading model from path /var/folders/ky/f89knrjx5953hm2lrfqmdxr80000gn/T/tmp_jo2b1kd/model/ with prefix cb717685852a4856\n",
      "[INFO 23-07-06 15:20:37.3833 EDT decision_forest.cc:660] Model loaded with 300 root(s), 138104 node(s), and 76 input feature(s).\n",
      "[INFO 23-07-06 15:20:37.3834 EDT abstract_model.cc:1312] Engine \"RandomForestOptPred\" built\n",
      "[INFO 23-07-06 15:20:37.3834 EDT kernel.cc:1075] Use fast generic engine\n"
     ]
    },
    {
     "name": "stdout",
     "output_type": "stream",
     "text": [
      "Model compiled.\n"
     ]
    },
    {
     "data": {
      "text/plain": [
       "<keras.callbacks.History at 0x177a3e910>"
      ]
     },
     "execution_count": 11,
     "metadata": {},
     "output_type": "execute_result"
    }
   ],
   "source": [
    "model.compile(metrics=[\"mse\"])\n",
    "model.fit(train_ds)"
   ]
  },
  {
   "cell_type": "code",
   "execution_count": 12,
   "metadata": {},
   "outputs": [
    {
     "name": "stdout",
     "output_type": "stream",
     "text": [
      "2/2 [==============================] - 0s 46ms/step\n"
     ]
    }
   ],
   "source": [
    "predictions = model.predict(test_ds)"
   ]
  },
  {
   "cell_type": "code",
   "execution_count": 14,
   "metadata": {},
   "outputs": [],
   "source": [
    "labelled_predictions = pd.DataFrame()\n",
    "labelled_predictions[\"Id\"] = test_ids\n",
    "labelled_predictions[\"SalePrice\"] = predictions"
   ]
  },
  {
   "cell_type": "code",
   "execution_count": 16,
   "metadata": {},
   "outputs": [],
   "source": [
    "labelled_predictions.to_csv(\"../submissions/first_submission.csv\", index=False)"
   ]
  },
  {
   "cell_type": "code",
   "execution_count": null,
   "metadata": {},
   "outputs": [],
   "source": []
  }
 ],
 "metadata": {
  "kernelspec": {
   "display_name": "kaggle",
   "language": "python",
   "name": "python3"
  },
  "language_info": {
   "codemirror_mode": {
    "name": "ipython",
    "version": 3
   },
   "file_extension": ".py",
   "mimetype": "text/x-python",
   "name": "python",
   "nbconvert_exporter": "python",
   "pygments_lexer": "ipython3",
   "version": "3.11.4"
  },
  "orig_nbformat": 4
 },
 "nbformat": 4,
 "nbformat_minor": 2
}
