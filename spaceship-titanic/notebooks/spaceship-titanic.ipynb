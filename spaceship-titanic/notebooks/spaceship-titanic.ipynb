{
 "cells": [
  {
   "attachments": {},
   "cell_type": "markdown",
   "metadata": {},
   "source": [
    "# Spaceship Titanic Kaggle Competition"
   ]
  },
  {
   "cell_type": "code",
   "execution_count": 189,
   "metadata": {},
   "outputs": [],
   "source": [
    "import pandas as pd\n",
    "import numpy as np\n",
    "import tensorflow as tf\n",
    "\n",
    "from tensorflow import keras\n",
    "from keras import layers"
   ]
  },
  {
   "attachments": {},
   "cell_type": "markdown",
   "metadata": {},
   "source": [
    "### Read data"
   ]
  },
  {
   "cell_type": "code",
   "execution_count": 194,
   "metadata": {},
   "outputs": [],
   "source": [
    "# read raw data\n",
    "\n",
    "train_df = pd.read_csv(\"../data/train.csv\")\n",
    "test_df = pd.read_csv(\"../data/test.csv\")"
   ]
  },
  {
   "cell_type": "code",
   "execution_count": 195,
   "metadata": {},
   "outputs": [],
   "source": [
    "# filter columns\n",
    "\n",
    "train_df = train_df.drop(columns=[\"PassengerId\", \"Name\"])\n",
    "\n",
    "train_df[[\"Cabin_Deck\", \"Cabin_Num\", \"Cabin_Side\"]] = train_df[\"Cabin\"].str.split(\"/\", expand=True)\n",
    "train_df = train_df.drop(columns=\"Cabin\")"
   ]
  },
  {
   "cell_type": "code",
   "execution_count": 196,
   "metadata": {},
   "outputs": [],
   "source": [
    "test_df = test_df.drop(columns=[\"Name\"])\n",
    "test_ids = test_df.pop(\"PassengerId\")\n",
    "\n",
    "test_df[[\"Cabin_Deck\", \"Cabin_Num\", \"Cabin_Side\"]] = test_df[\"Cabin\"].str.split(\"/\", expand=True)\n",
    "test_df = test_df.drop(columns=\"Cabin\")"
   ]
  },
  {
   "cell_type": "code",
   "execution_count": 197,
   "metadata": {},
   "outputs": [],
   "source": [
    "# fill missing values\n",
    "\n",
    "def filter_missing(df):\n",
    "    for column in df.columns:\n",
    "\n",
    "        dtype = df[column].dtype\n",
    "        \n",
    "        if dtype == \"object\":\n",
    "            df[column] = df[column].fillna(value=\"0\")\n",
    "        elif dtype == \"float64\":\n",
    "            df[column] = df[column].fillna(value=0)\n",
    "        elif dtype == \"bool\":\n",
    "            df[column] = df[column].fillna(value=False)\n",
    "    \n",
    "    return df"
   ]
  },
  {
   "cell_type": "code",
   "execution_count": 198,
   "metadata": {},
   "outputs": [],
   "source": [
    "train_df = filter_missing(train_df)\n",
    "test_df = filter_missing(test_df)"
   ]
  },
  {
   "cell_type": "code",
   "execution_count": 199,
   "metadata": {},
   "outputs": [],
   "source": [
    "# convert booleans\n",
    "\n",
    "train_df[[\"CryoSleep\", \"VIP\"]] = train_df[\n",
    "    [\"CryoSleep\", \"VIP\"]].astype(str)\n",
    "\n",
    "test_df[[\"CryoSleep\", \"VIP\"]] = test_df[\n",
    "    [\"CryoSleep\", \"VIP\"]].astype(str)\n",
    "\n",
    "train_df[\"Transported\"] = train_df[\"Transported\"].astype(int)"
   ]
  },
  {
   "cell_type": "code",
   "execution_count": 200,
   "metadata": {},
   "outputs": [],
   "source": [
    "# split into training and validation datasets\n",
    "\n",
    "val_frac = .2\n",
    "val_df = train_df.sample(frac=0.2)\n",
    "train_df = train_df.drop(val_df.index)"
   ]
  },
  {
   "cell_type": "code",
   "execution_count": 201,
   "metadata": {},
   "outputs": [],
   "source": [
    "# convert pd DataFrame to tf Dataset labelled with answers\n",
    "\n",
    "def dataframe_to_dataset(df):\n",
    "    \n",
    "    df = df.copy()\n",
    "    labels = df.pop(\"Transported\").astype(int)\n",
    "    ds = tf.data.Dataset.from_tensor_slices((dict(df), labels))\n",
    "    ds = ds.shuffle(buffer_size=len(df))\n",
    "\n",
    "    return ds"
   ]
  },
  {
   "cell_type": "code",
   "execution_count": 202,
   "metadata": {},
   "outputs": [],
   "source": [
    "# convert and batch train and val datasets \n",
    "\n",
    "train_ds = dataframe_to_dataset(train_df)\n",
    "val_ds = dataframe_to_dataset(val_df)\n",
    "\n",
    "batch_size = 32\n",
    "train_ds = train_ds.batch(batch_size)\n",
    "val_ds = val_ds.batch(batch_size)"
   ]
  },
  {
   "cell_type": "code",
   "execution_count": 203,
   "metadata": {},
   "outputs": [],
   "source": [
    "# convert test df\n",
    "test_ds = tf.data.Dataset.from_tensor_slices(dict(test_df))"
   ]
  },
  {
   "attachments": {},
   "cell_type": "markdown",
   "metadata": {},
   "source": [
    "### Encode input features"
   ]
  },
  {
   "cell_type": "code",
   "execution_count": 204,
   "metadata": {},
   "outputs": [],
   "source": [
    "from tensorflow.keras.layers import StringLookup\n",
    "\n",
    "def encode_categorical_feature(feature, name, feature_ds):\n",
    "\n",
    "    lookup = StringLookup(output_mode=\"one_hot\")\n",
    "    lookup.adapt(feature_ds)\n",
    "\n",
    "    return lookup(feature)"
   ]
  },
  {
   "cell_type": "code",
   "execution_count": 205,
   "metadata": {},
   "outputs": [],
   "source": [
    "from tensorflow.keras.layers import Normalization\n",
    "\n",
    "def encode_float_feature(feature, name, feature_ds):\n",
    "\n",
    "    normalizer = Normalization()\n",
    "    normalizer.adapt(feature_ds)\n",
    "    \n",
    "    return normalizer(feature)"
   ]
  },
  {
   "cell_type": "code",
   "execution_count": 206,
   "metadata": {},
   "outputs": [],
   "source": [
    "def encode_feature(feature, name, dataset):\n",
    "\n",
    "    # construct dataset with only given feature\n",
    "    feature_ds = dataset.map(lambda x, y: x[name])\n",
    "    feature_ds = feature_ds.map(lambda x: tf.expand_dims(x, -1))\n",
    "\n",
    "    # build encoder based on feature dtype\n",
    "    dtype = feature_ds.element_spec.dtype\n",
    "\n",
    "    if dtype == tf.string:\n",
    "        encoded_feature = encode_categorical_feature(feature, name, feature_ds)\n",
    "    elif dtype == tf.float64:\n",
    "        encoded_feature = encode_float_feature(feature, name, feature_ds)\n",
    "    else:\n",
    "        print(\"Unexpected datatype: \" + str(dtype))\n",
    "        encoded_feature = \"Pain\"\n",
    "\n",
    "    return encoded_feature"
   ]
  },
  {
   "attachments": {},
   "cell_type": "markdown",
   "metadata": {},
   "source": [
    "### Build model from encoded features"
   ]
  },
  {
   "cell_type": "code",
   "execution_count": 207,
   "metadata": {},
   "outputs": [],
   "source": [
    "# build input layers based on feature specs from ds\n",
    "\n",
    "all_inputs = dict()\n",
    "\n",
    "features = train_ds.element_spec[0]\n",
    "\n",
    "for name, spec in features.items():\n",
    "    all_inputs[name] = keras.Input(\n",
    "        shape=(1,),\n",
    "        name=name,\n",
    "        dtype=spec.dtype\n",
    "    )"
   ]
  },
  {
   "cell_type": "code",
   "execution_count": 208,
   "metadata": {},
   "outputs": [
    {
     "name": "stderr",
     "output_type": "stream",
     "text": [
      "2023-07-05 17:22:42.701852: I tensorflow/core/common_runtime/executor.cc:1197] [/device:CPU:0] (DEBUG INFO) Executor start aborting (this does not indicate an error and you can ignore this message): INVALID_ARGUMENT: You must feed a value for placeholder tensor 'Placeholder/_7' with dtype string and shape [6954]\n",
      "\t [[{{node Placeholder/_7}}]]\n",
      "2023-07-05 17:22:42.702849: I tensorflow/core/common_runtime/executor.cc:1197] [/device:CPU:0] (DEBUG INFO) Executor start aborting (this does not indicate an error and you can ignore this message): INVALID_ARGUMENT: You must feed a value for placeholder tensor 'Placeholder/_6' with dtype double and shape [6954]\n",
      "\t [[{{node Placeholder/_6}}]]\n",
      "2023-07-05 17:22:43.051003: I tensorflow/core/common_runtime/executor.cc:1197] [/device:CPU:0] (DEBUG INFO) Executor start aborting (this does not indicate an error and you can ignore this message): INVALID_ARGUMENT: You must feed a value for placeholder tensor 'Placeholder/_6' with dtype double and shape [6954]\n",
      "\t [[{{node Placeholder/_6}}]]\n",
      "2023-07-05 17:22:43.051456: I tensorflow/core/common_runtime/executor.cc:1197] [/device:CPU:0] (DEBUG INFO) Executor start aborting (this does not indicate an error and you can ignore this message): INVALID_ARGUMENT: You must feed a value for placeholder tensor 'Placeholder/_3' with dtype string and shape [6954]\n",
      "\t [[{{node Placeholder/_3}}]]\n",
      "2023-07-05 17:22:43.373996: I tensorflow/core/common_runtime/executor.cc:1197] [/device:CPU:0] (DEBUG INFO) Executor start aborting (this does not indicate an error and you can ignore this message): INVALID_ARGUMENT: You must feed a value for placeholder tensor 'Placeholder/_2' with dtype string and shape [6954]\n",
      "\t [[{{node Placeholder/_2}}]]\n",
      "2023-07-05 17:22:43.374482: I tensorflow/core/common_runtime/executor.cc:1197] [/device:CPU:0] (DEBUG INFO) Executor start aborting (this does not indicate an error and you can ignore this message): INVALID_ARGUMENT: You must feed a value for placeholder tensor 'Placeholder/_7' with dtype string and shape [6954]\n",
      "\t [[{{node Placeholder/_7}}]]\n",
      "2023-07-05 17:22:43.685192: I tensorflow/core/common_runtime/executor.cc:1197] [/device:CPU:0] (DEBUG INFO) Executor start aborting (this does not indicate an error and you can ignore this message): INVALID_ARGUMENT: You must feed a value for placeholder tensor 'Placeholder/_3' with dtype string and shape [6954]\n",
      "\t [[{{node Placeholder/_3}}]]\n",
      "2023-07-05 17:22:43.685644: I tensorflow/core/common_runtime/executor.cc:1197] [/device:CPU:0] (DEBUG INFO) Executor start aborting (this does not indicate an error and you can ignore this message): INVALID_ARGUMENT: You must feed a value for placeholder tensor 'Placeholder/_11' with dtype string and shape [6954]\n",
      "\t [[{{node Placeholder/_11}}]]\n",
      "2023-07-05 17:22:44.126303: I tensorflow/core/common_runtime/executor.cc:1197] [/device:CPU:0] (DEBUG INFO) Executor start aborting (this does not indicate an error and you can ignore this message): INVALID_ARGUMENT: You must feed a value for placeholder tensor 'Placeholder/_7' with dtype string and shape [6954]\n",
      "\t [[{{node Placeholder/_7}}]]\n",
      "2023-07-05 17:22:44.126887: I tensorflow/core/common_runtime/executor.cc:1197] [/device:CPU:0] (DEBUG INFO) Executor start aborting (this does not indicate an error and you can ignore this message): INVALID_ARGUMENT: You must feed a value for placeholder tensor 'Placeholder/_9' with dtype double and shape [6954]\n",
      "\t [[{{node Placeholder/_9}}]]\n",
      "2023-07-05 17:22:44.437000: I tensorflow/core/common_runtime/executor.cc:1197] [/device:CPU:0] (DEBUG INFO) Executor start aborting (this does not indicate an error and you can ignore this message): INVALID_ARGUMENT: You must feed a value for placeholder tensor 'Placeholder/_9' with dtype double and shape [6954]\n",
      "\t [[{{node Placeholder/_9}}]]\n",
      "2023-07-05 17:22:44.437446: I tensorflow/core/common_runtime/executor.cc:1197] [/device:CPU:0] (DEBUG INFO) Executor start aborting (this does not indicate an error and you can ignore this message): INVALID_ARGUMENT: You must feed a value for placeholder tensor 'Placeholder/_9' with dtype double and shape [6954]\n",
      "\t [[{{node Placeholder/_9}}]]\n",
      "2023-07-05 17:22:44.829205: I tensorflow/core/common_runtime/executor.cc:1197] [/device:CPU:0] (DEBUG INFO) Executor start aborting (this does not indicate an error and you can ignore this message): INVALID_ARGUMENT: You must feed a value for placeholder tensor 'Placeholder/_5' with dtype string and shape [6954]\n",
      "\t [[{{node Placeholder/_5}}]]\n",
      "2023-07-05 17:22:44.829692: I tensorflow/core/common_runtime/executor.cc:1197] [/device:CPU:0] (DEBUG INFO) Executor start aborting (this does not indicate an error and you can ignore this message): INVALID_ARGUMENT: You must feed a value for placeholder tensor 'Placeholder/_3' with dtype string and shape [6954]\n",
      "\t [[{{node Placeholder/_3}}]]\n",
      "2023-07-05 17:22:45.216286: I tensorflow/core/common_runtime/executor.cc:1197] [/device:CPU:0] (DEBUG INFO) Executor start aborting (this does not indicate an error and you can ignore this message): INVALID_ARGUMENT: You must feed a value for placeholder tensor 'Placeholder/_5' with dtype string and shape [6954]\n",
      "\t [[{{node Placeholder/_5}}]]\n",
      "2023-07-05 17:22:45.216744: I tensorflow/core/common_runtime/executor.cc:1197] [/device:CPU:0] (DEBUG INFO) Executor start aborting (this does not indicate an error and you can ignore this message): INVALID_ARGUMENT: You must feed a value for placeholder tensor 'Placeholder/_10' with dtype double and shape [6954]\n",
      "\t [[{{node Placeholder/_10}}]]\n",
      "2023-07-05 17:22:45.662156: I tensorflow/core/common_runtime/executor.cc:1197] [/device:CPU:0] (DEBUG INFO) Executor start aborting (this does not indicate an error and you can ignore this message): INVALID_ARGUMENT: You must feed a value for placeholder tensor 'Placeholder/_4' with dtype string and shape [6954]\n",
      "\t [[{{node Placeholder/_4}}]]\n",
      "2023-07-05 17:22:45.662659: I tensorflow/core/common_runtime/executor.cc:1197] [/device:CPU:0] (DEBUG INFO) Executor start aborting (this does not indicate an error and you can ignore this message): INVALID_ARGUMENT: You must feed a value for placeholder tensor 'Placeholder/_3' with dtype string and shape [6954]\n",
      "\t [[{{node Placeholder/_3}}]]\n",
      "2023-07-05 17:22:46.067627: I tensorflow/core/common_runtime/executor.cc:1197] [/device:CPU:0] (DEBUG INFO) Executor start aborting (this does not indicate an error and you can ignore this message): INVALID_ARGUMENT: You must feed a value for placeholder tensor 'Placeholder/_3' with dtype string and shape [6954]\n",
      "\t [[{{node Placeholder/_3}}]]\n",
      "2023-07-05 17:22:46.068094: I tensorflow/core/common_runtime/executor.cc:1197] [/device:CPU:0] (DEBUG INFO) Executor start aborting (this does not indicate an error and you can ignore this message): INVALID_ARGUMENT: You must feed a value for placeholder tensor 'Placeholder/_1' with dtype string and shape [6954]\n",
      "\t [[{{node Placeholder/_1}}]]\n",
      "2023-07-05 17:22:46.490285: I tensorflow/core/common_runtime/executor.cc:1197] [/device:CPU:0] (DEBUG INFO) Executor start aborting (this does not indicate an error and you can ignore this message): INVALID_ARGUMENT: You must feed a value for placeholder tensor 'Placeholder/_5' with dtype string and shape [6954]\n",
      "\t [[{{node Placeholder/_5}}]]\n",
      "2023-07-05 17:22:46.490837: I tensorflow/core/common_runtime/executor.cc:1197] [/device:CPU:0] (DEBUG INFO) Executor start aborting (this does not indicate an error and you can ignore this message): INVALID_ARGUMENT: You must feed a value for placeholder tensor 'Placeholder/_12' with dtype double and shape [6954]\n",
      "\t [[{{node Placeholder/_12}}]]\n",
      "2023-07-05 17:22:46.780699: I tensorflow/core/common_runtime/executor.cc:1197] [/device:CPU:0] (DEBUG INFO) Executor start aborting (this does not indicate an error and you can ignore this message): INVALID_ARGUMENT: You must feed a value for placeholder tensor 'Placeholder/_4' with dtype string and shape [6954]\n",
      "\t [[{{node Placeholder/_4}}]]\n",
      "2023-07-05 17:22:46.781142: I tensorflow/core/common_runtime/executor.cc:1197] [/device:CPU:0] (DEBUG INFO) Executor start aborting (this does not indicate an error and you can ignore this message): INVALID_ARGUMENT: You must feed a value for placeholder tensor 'Placeholder/_6' with dtype double and shape [6954]\n",
      "\t [[{{node Placeholder/_6}}]]\n",
      "2023-07-05 17:22:47.133599: I tensorflow/core/common_runtime/executor.cc:1197] [/device:CPU:0] (DEBUG INFO) Executor start aborting (this does not indicate an error and you can ignore this message): INVALID_ARGUMENT: You must feed a value for placeholder tensor 'Placeholder/_4' with dtype string and shape [6954]\n",
      "\t [[{{node Placeholder/_4}}]]\n",
      "2023-07-05 17:22:47.134083: I tensorflow/core/common_runtime/executor.cc:1197] [/device:CPU:0] (DEBUG INFO) Executor start aborting (this does not indicate an error and you can ignore this message): INVALID_ARGUMENT: You must feed a value for placeholder tensor 'Placeholder/_1' with dtype string and shape [6954]\n",
      "\t [[{{node Placeholder/_1}}]]\n"
     ]
    }
   ],
   "source": [
    "# build individual encoding layers for each feature\n",
    "\n",
    "encodings = dict()\n",
    "\n",
    "for name, spec in features.items():\n",
    "    encodings[name] = encode_feature(\n",
    "        all_inputs[name],\n",
    "        name,\n",
    "        train_ds\n",
    "    )"
   ]
  },
  {
   "cell_type": "code",
   "execution_count": 209,
   "metadata": {},
   "outputs": [],
   "source": [
    "# build dense network from encoded features to predicted survival\n",
    "\n",
    "all_features = layers.concatenate(encodings.values())\n",
    "\n",
    "x = layers.Dense(128, activation=\"relu\")(all_features)\n",
    "x = layers.Dropout(0.2)(x)\n",
    "\n",
    "x = layers.Dense(32, activation=\"relu\")(x)\n",
    "\n",
    "inputs = list(all_inputs.values())\n",
    "output = layers.Dense(1, activation=\"sigmoid\")(x)\n",
    "\n",
    "model = keras.Model(list(all_inputs.values()), output)\n",
    "model.compile(\"adam\", \"binary_crossentropy\", metrics=[\"accuracy\"])"
   ]
  },
  {
   "cell_type": "code",
   "execution_count": 210,
   "metadata": {},
   "outputs": [],
   "source": [
    "# keras.utils.plot_model(model, rankdir=\"LR\")"
   ]
  },
  {
   "cell_type": "code",
   "execution_count": 211,
   "metadata": {},
   "outputs": [
    {
     "name": "stdout",
     "output_type": "stream",
     "text": [
      "Epoch 1/10\n"
     ]
    },
    {
     "name": "stderr",
     "output_type": "stream",
     "text": [
      "2023-07-05 17:22:52.939703: I tensorflow/core/common_runtime/executor.cc:1197] [/device:CPU:0] (DEBUG INFO) Executor start aborting (this does not indicate an error and you can ignore this message): INVALID_ARGUMENT: You must feed a value for placeholder tensor 'Placeholder/_5' with dtype string and shape [6954]\n",
      "\t [[{{node Placeholder/_5}}]]\n",
      "2023-07-05 17:22:52.940680: I tensorflow/core/common_runtime/executor.cc:1197] [/device:CPU:0] (DEBUG INFO) Executor start aborting (this does not indicate an error and you can ignore this message): INVALID_ARGUMENT: You must feed a value for placeholder tensor 'Placeholder/_4' with dtype string and shape [6954]\n",
      "\t [[{{node Placeholder/_4}}]]\n"
     ]
    },
    {
     "name": "stdout",
     "output_type": "stream",
     "text": [
      "218/218 [==============================] - 2s 4ms/step - loss: 0.4804 - accuracy: 0.7693\n",
      "Epoch 2/10\n",
      "218/218 [==============================] - 1s 4ms/step - loss: 0.3921 - accuracy: 0.8155\n",
      "Epoch 3/10\n",
      "218/218 [==============================] - 1s 4ms/step - loss: 0.3381 - accuracy: 0.8499\n",
      "Epoch 4/10\n",
      "218/218 [==============================] - 1s 4ms/step - loss: 0.2802 - accuracy: 0.8799\n",
      "Epoch 5/10\n",
      "218/218 [==============================] - 1s 4ms/step - loss: 0.2244 - accuracy: 0.9070\n",
      "Epoch 6/10\n",
      "218/218 [==============================] - 1s 4ms/step - loss: 0.1814 - accuracy: 0.9280\n",
      "Epoch 7/10\n",
      "218/218 [==============================] - 1s 4ms/step - loss: 0.1455 - accuracy: 0.9445\n",
      "Epoch 8/10\n",
      "218/218 [==============================] - 1s 4ms/step - loss: 0.1147 - accuracy: 0.9561\n",
      "Epoch 9/10\n",
      "218/218 [==============================] - 1s 4ms/step - loss: 0.0958 - accuracy: 0.9623\n",
      "Epoch 10/10\n",
      "218/218 [==============================] - 1s 4ms/step - loss: 0.0770 - accuracy: 0.9720\n"
     ]
    },
    {
     "data": {
      "text/plain": [
       "<keras.callbacks.History at 0x7fe13e6180d0>"
      ]
     },
     "execution_count": 211,
     "metadata": {},
     "output_type": "execute_result"
    }
   ],
   "source": [
    "# train model\n",
    "\n",
    "model.fit(train_ds, epochs=10)"
   ]
  },
  {
   "attachments": {},
   "cell_type": "markdown",
   "metadata": {},
   "source": [
    "### Make predictions for test data"
   ]
  },
  {
   "cell_type": "code",
   "execution_count": 220,
   "metadata": {},
   "outputs": [
    {
     "name": "stdout",
     "output_type": "stream",
     "text": [
      "134/134 [==============================] - 0s 2ms/step\n"
     ]
    }
   ],
   "source": [
    "predictions = model.predict(dict(test_df))"
   ]
  },
  {
   "cell_type": "code",
   "execution_count": 223,
   "metadata": {},
   "outputs": [],
   "source": [
    "labelled_predictions = pd.DataFrame()\n",
    "labelled_predictions[\"PassengerId\"] = test_ids\n",
    "labelled_predictions[\"Transported\"] = [round(pred[0]) for pred in predictions]"
   ]
  },
  {
   "cell_type": "code",
   "execution_count": 224,
   "metadata": {},
   "outputs": [],
   "source": [
    "labelled_predictions.to_csv(\"../submissions/first_submission.csv\", index=False)"
   ]
  },
  {
   "cell_type": "code",
   "execution_count": null,
   "metadata": {},
   "outputs": [],
   "source": []
  }
 ],
 "metadata": {
  "kernelspec": {
   "display_name": "kaggle",
   "language": "python",
   "name": "python3"
  },
  "language_info": {
   "codemirror_mode": {
    "name": "ipython",
    "version": 3
   },
   "file_extension": ".py",
   "mimetype": "text/x-python",
   "name": "python",
   "nbconvert_exporter": "python",
   "pygments_lexer": "ipython3",
   "version": "3.11.3"
  },
  "orig_nbformat": 4
 },
 "nbformat": 4,
 "nbformat_minor": 2
}
