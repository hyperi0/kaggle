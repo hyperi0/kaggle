{
 "cells": [
  {
   "cell_type": "code",
   "execution_count": 13,
   "metadata": {},
   "outputs": [],
   "source": [
    "import pandas as pd\n",
    "import numpy as np"
   ]
  },
  {
   "cell_type": "markdown",
   "metadata": {},
   "source": [
    "### Get normalized numeric data"
   ]
  },
  {
   "cell_type": "code",
   "execution_count": 50,
   "metadata": {},
   "outputs": [],
   "source": [
    "allTrainingDataRaw = pd.read_csv('data/train.csv')\n",
    "\n",
    "allTrainingLabels = allTrainingDataRaw['Transported']\n",
    "\n",
    "allTrainingData = allTrainingDataRaw.fillna(value={\n",
    "    'HomePlanet':'None',\n",
    "    'CryoSleep':'None',\n",
    "    'Cabin':'0/0/0',\n",
    "    'Destination':'None',\n",
    "    'Age':0,\n",
    "    'VIP':'False',\n",
    "    'RoomService':0,\n",
    "    'FoodCourt':0,\n",
    "    'ShoppingMall':0,\n",
    "    'Spa':0,\n",
    "    'VRDeck':0,\n",
    "    'Name':'None'\n",
    "})\n",
    "\n",
    "allTrainingData[['CabinDeck','CabinNumber','CabinSide']] = allTrainingData['Cabin'].str.split('/').tolist()\n",
    "allTrainingData['CabinNumber'] = allTrainingData['CabinNumber'].astype('float64')\n",
    "allTrainingData = allTrainingData.drop(columns=['Cabin','Name'])\n",
    "allTrainingDataNumeric = allTrainingData.select_dtypes(include='float64').join(\n",
    "    pd.get_dummies(allTrainingData.select_dtypes(include='object').drop(columns=['PassengerId'])))\n",
    "\n",
    "allTrainingDataNormalized = allTrainingDataNumeric.apply(lambda x: x/x.max(), axis=0)\n",
    "\n",
    "valSplitIndex = 8000\n",
    "\n",
    "trainingData = allTrainingDataNormalized.iloc[:valSplitIndex]\n",
    "validationData = allTrainingDataNormalized.iloc[valSplitIndex:]\n",
    "\n",
    "trainingLabels = allTrainingLabels.iloc[:valSplitIndex]\n",
    "validationLabels = allTrainingLabels.iloc[valSplitIndex:]"
   ]
  },
  {
   "cell_type": "markdown",
   "metadata": {},
   "source": [
    "### Build model"
   ]
  },
  {
   "cell_type": "code",
   "execution_count": 51,
   "metadata": {},
   "outputs": [],
   "source": [
    "from keras import models\n",
    "from keras import layers\n",
    "\n",
    "inputLen = trainingData.shape[1]\n",
    "\n",
    "model = models.Sequential()\n",
    "model.add(layers.Dense(8, activation='relu', input_shape=(inputLen,)))\n",
    "model.add(layers.Dense(8, activation='relu'))\n",
    "model.add(layers.Dense(1, activation='sigmoid'))\n",
    "\n",
    "model.compile(optimizer='rmsprop',loss='binary_crossentropy',metrics=['acc'])"
   ]
  },
  {
   "cell_type": "markdown",
   "metadata": {},
   "source": [
    "### Train model"
   ]
  },
  {
   "cell_type": "code",
   "execution_count": 52,
   "metadata": {},
   "outputs": [
    {
     "name": "stdout",
     "output_type": "stream",
     "text": [
      "Epoch 1/20\n",
      "125/125 [==============================] - 1s 3ms/step - loss: 0.6925 - acc: 0.5354 - val_loss: 0.6612 - val_acc: 0.6320\n",
      "Epoch 2/20\n",
      "125/125 [==============================] - 0s 2ms/step - loss: 0.6503 - acc: 0.6802 - val_loss: 0.6228 - val_acc: 0.7157\n",
      "Epoch 3/20\n",
      "125/125 [==============================] - 0s 2ms/step - loss: 0.6235 - acc: 0.7283 - val_loss: 0.6025 - val_acc: 0.7403\n",
      "Epoch 4/20\n",
      "125/125 [==============================] - 0s 2ms/step - loss: 0.5998 - acc: 0.7316 - val_loss: 0.5798 - val_acc: 0.7431\n",
      "Epoch 5/20\n",
      "125/125 [==============================] - 0s 2ms/step - loss: 0.5682 - acc: 0.7385 - val_loss: 0.5536 - val_acc: 0.7446\n",
      "Epoch 6/20\n",
      "125/125 [==============================] - 0s 2ms/step - loss: 0.5402 - acc: 0.7471 - val_loss: 0.5353 - val_acc: 0.7460\n",
      "Epoch 7/20\n",
      "125/125 [==============================] - 0s 2ms/step - loss: 0.5222 - acc: 0.7502 - val_loss: 0.5223 - val_acc: 0.7504\n",
      "Epoch 8/20\n",
      "125/125 [==============================] - 0s 3ms/step - loss: 0.5083 - acc: 0.7535 - val_loss: 0.5128 - val_acc: 0.7590\n",
      "Epoch 9/20\n",
      "125/125 [==============================] - 0s 3ms/step - loss: 0.4962 - acc: 0.7589 - val_loss: 0.5091 - val_acc: 0.7720\n",
      "Epoch 10/20\n",
      "125/125 [==============================] - 0s 3ms/step - loss: 0.4858 - acc: 0.7630 - val_loss: 0.4976 - val_acc: 0.7734\n",
      "Epoch 11/20\n",
      "125/125 [==============================] - 0s 3ms/step - loss: 0.4760 - acc: 0.7674 - val_loss: 0.4905 - val_acc: 0.7749\n",
      "Epoch 12/20\n",
      "125/125 [==============================] - 0s 3ms/step - loss: 0.4671 - acc: 0.7710 - val_loss: 0.4826 - val_acc: 0.7734\n",
      "Epoch 13/20\n",
      "125/125 [==============================] - 0s 2ms/step - loss: 0.4590 - acc: 0.7740 - val_loss: 0.4639 - val_acc: 0.7850\n",
      "Epoch 14/20\n",
      "125/125 [==============================] - 0s 2ms/step - loss: 0.4518 - acc: 0.7778 - val_loss: 0.4546 - val_acc: 0.7850\n",
      "Epoch 15/20\n",
      "125/125 [==============================] - 0s 2ms/step - loss: 0.4455 - acc: 0.7824 - val_loss: 0.4524 - val_acc: 0.7778\n",
      "Epoch 16/20\n",
      "125/125 [==============================] - 0s 2ms/step - loss: 0.4405 - acc: 0.7834 - val_loss: 0.4501 - val_acc: 0.7807\n",
      "Epoch 17/20\n",
      "125/125 [==============================] - 0s 2ms/step - loss: 0.4353 - acc: 0.7843 - val_loss: 0.4467 - val_acc: 0.7893\n",
      "Epoch 18/20\n",
      "125/125 [==============================] - 0s 2ms/step - loss: 0.4311 - acc: 0.7896 - val_loss: 0.4497 - val_acc: 0.7749\n",
      "Epoch 19/20\n",
      "125/125 [==============================] - 0s 2ms/step - loss: 0.4275 - acc: 0.7896 - val_loss: 0.4380 - val_acc: 0.7922\n",
      "Epoch 20/20\n",
      "125/125 [==============================] - 0s 2ms/step - loss: 0.4253 - acc: 0.7911 - val_loss: 0.4437 - val_acc: 0.7749\n"
     ]
    }
   ],
   "source": [
    "history = model.fit(trainingData, trainingLabels,\n",
    "    epochs=20,\n",
    "    batch_size=64,\n",
    "    validation_data=(validationData, validationLabels))"
   ]
  },
  {
   "cell_type": "markdown",
   "metadata": {},
   "source": [
    "### Plot accuracy"
   ]
  },
  {
   "cell_type": "code",
   "execution_count": 53,
   "metadata": {},
   "outputs": [
    {
     "data": {
      "image/png": "[encoded data removed]",
      "text/plain": [
       "<Figure size 432x288 with 1 Axes>"
      ]
     },
     "metadata": {
      "needs_background": "light"
     },
     "output_type": "display_data"
    }
   ],
   "source": [
    "import matplotlib.pyplot as plt\n",
    "\n",
    "history_dict = history.history\n",
    "epochs = range(1, len(history_dict['acc']) + 1)\n",
    "\n",
    "acc_values = history_dict['acc']\n",
    "val_acc_values = history_dict['val_acc']\n",
    "\n",
    "plt.plot(epochs, acc_values, 'bo', label='Training acc')\n",
    "plt.plot(epochs, val_acc_values, 'b', label='Validation acc')\n",
    "plt.title('Training and validation accuracy')\n",
    "plt.xlabel('Epochs')\n",
    "plt.ylabel('Loss')\n",
    "plt.legend()\n",
    "\n",
    "plt.show()"
   ]
  },
  {
   "cell_type": "markdown",
   "metadata": {},
   "source": [
    "### Prepare test data"
   ]
  },
  {
   "cell_type": "code",
   "execution_count": 62,
   "metadata": {},
   "outputs": [],
   "source": [
    "testDataRaw = pd.read_csv('data/test.csv')\n",
    "\n",
    "testIds = testDataRaw['PassengerId']\n",
    "\n",
    "testData = testDataRaw.fillna(value={\n",
    "    'HomePlanet':'None',\n",
    "    'CryoSleep':'None',\n",
    "    'Cabin':'0/0/0',\n",
    "    'Destination':'None',\n",
    "    'Age':0,\n",
    "    'VIP':'False',\n",
    "    'RoomService':0,\n",
    "    'FoodCourt':0,\n",
    "    'ShoppingMall':0,\n",
    "    'Spa':0,\n",
    "    'VRDeck':0,\n",
    "    'Name':'None'\n",
    "})\n",
    "\n",
    "testData[['CabinDeck','CabinNumber','CabinSide']] = testData['Cabin'].str.split('/').tolist()\n",
    "testData['CabinNumber'] = testData['CabinNumber'].astype('float64')\n",
    "testData = testData.drop(columns=['Cabin','Name'])\n",
    "testDataNumeric = testData.select_dtypes(include='float64').join(\n",
    "    pd.get_dummies(testData.select_dtypes(include='object').drop(columns=['PassengerId'])))\n",
    "\n",
    "testData = testDataNumeric.apply(lambda x: x/x.max(), axis=0)"
   ]
  },
  {
   "cell_type": "markdown",
   "metadata": {},
   "source": [
    "\n",
    "### Make predictions"
   ]
  },
  {
   "cell_type": "code",
   "execution_count": 76,
   "metadata": {},
   "outputs": [
    {
     "name": "stdout",
     "output_type": "stream",
     "text": [
      "134/134 [==============================] - 0s 1ms/step\n"
     ]
    }
   ],
   "source": [
    "predictions = model.predict(testData).tolist()\n",
    "results = [[testIds[i], round(predictions[i][0])] for i in range(len(predictions))]\n",
    "\n",
    "# write predictions to file for submission\n",
    "with open('submissions/mySubmission1.csv','w',newline='') as submissionFile:\n",
    "\n",
    "    writer = csv.writer(submissionFile,delimiter=',')\n",
    "    writer.writerow([\"PassengerID\",\"Survived\"])\n",
    "\n",
    "    for result in results:\n",
    "        writer.writerow(result)"
   ]
  },
  {
   "cell_type": "code",
   "execution_count": null,
   "metadata": {},
   "outputs": [],
   "source": []
  }
 ],
 "metadata": {
  "interpreter": {
   "hash": "8dde927ad0e7f7ee31f5c97111f1b740701b0138403eb80cb203ece1cd89b21b"
  },
  "kernelspec": {
   "display_name": "Python 3.8.8 ('keras-env')",
   "language": "python",
   "name": "python3"
  },
  "language_info": {
   "codemirror_mode": {
    "name": "ipython",
    "version": 3
   },
   "file_extension": ".py",
   "mimetype": "text/x-python",
   "name": "python",
   "nbconvert_exporter": "python",
   "pygments_lexer": "ipython3",
   "version": "3.10.5"
  },
  "orig_nbformat": 4
 },
 "nbformat": 4,
 "nbformat_minor": 2
}
