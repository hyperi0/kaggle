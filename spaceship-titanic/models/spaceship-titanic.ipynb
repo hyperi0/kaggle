{
 "cells": [
  {
   "attachments": {},
   "cell_type": "markdown",
   "metadata": {},
   "source": [
    "# Spaceship Titanic Kaggle Competition"
   ]
  },
  {
   "cell_type": "code",
   "execution_count": 1,
   "metadata": {},
   "outputs": [
    {
     "name": "stderr",
     "output_type": "stream",
     "text": [
      "2023-07-11 16:18:44.894219: I tensorflow/tsl/cuda/cudart_stub.cc:28] Could not find cuda drivers on your machine, GPU will not be used.\n",
      "2023-07-11 16:18:44.942853: I tensorflow/tsl/cuda/cudart_stub.cc:28] Could not find cuda drivers on your machine, GPU will not be used.\n",
      "2023-07-11 16:18:44.943537: I tensorflow/core/platform/cpu_feature_guard.cc:182] This TensorFlow binary is optimized to use available CPU instructions in performance-critical operations.\n",
      "To enable the following instructions: AVX2 FMA, in other operations, rebuild TensorFlow with the appropriate compiler flags.\n",
      "2023-07-11 16:18:45.841643: W tensorflow/compiler/tf2tensorrt/utils/py_utils.cc:38] TF-TRT Warning: Could not find TensorRT\n"
     ]
    }
   ],
   "source": [
    "import pandas as pd\n",
    "import numpy as np\n",
    "\n",
    "import tensorflow as tf\n",
    "import keras_tuner\n",
    "\n",
    "from tensorflow import keras\n",
    "from keras import layers"
   ]
  },
  {
   "attachments": {},
   "cell_type": "markdown",
   "metadata": {},
   "source": [
    "### Read data"
   ]
  },
  {
   "cell_type": "code",
   "execution_count": 35,
   "metadata": {},
   "outputs": [],
   "source": [
    "# read raw data\n",
    "\n",
    "train_df = pd.read_csv(\"../data/train.csv\")\n",
    "test_df = pd.read_csv(\"../data/test.csv\")"
   ]
  },
  {
   "cell_type": "code",
   "execution_count": 36,
   "metadata": {},
   "outputs": [],
   "source": [
    "# filter columns\n",
    "\n",
    "train_df = train_df.drop(columns=[\"PassengerId\", \"Name\"])\n",
    "\n",
    "train_df[[\"Cabin_Deck\", \"Cabin_Num\", \"Cabin_Side\"]] = train_df[\"Cabin\"].str.split(\"/\", expand=True)\n",
    "train_df = train_df.drop(columns=\"Cabin\")"
   ]
  },
  {
   "cell_type": "code",
   "execution_count": 37,
   "metadata": {},
   "outputs": [],
   "source": [
    "test_df = test_df.drop(columns=[\"Name\"])\n",
    "test_ids = test_df.pop(\"PassengerId\")\n",
    "\n",
    "test_df[[\"Cabin_Deck\", \"Cabin_Num\", \"Cabin_Side\"]] = test_df[\"Cabin\"].str.split(\"/\", expand=True)\n",
    "test_df = test_df.drop(columns=\"Cabin\")"
   ]
  },
  {
   "cell_type": "code",
   "execution_count": 38,
   "metadata": {},
   "outputs": [],
   "source": [
    "# encode cabin number as float so it's treated numerically\n",
    "train_df[\"Cabin_Num\"] = train_df[\"Cabin_Num\"].astype(\"float64\")\n",
    "test_df[\"Cabin_Num\"] = test_df[\"Cabin_Num\"].astype(\"float64\")"
   ]
  },
  {
   "cell_type": "code",
   "execution_count": 39,
   "metadata": {},
   "outputs": [],
   "source": [
    "# fill missing values\n",
    "\n",
    "def filter_missing(df):\n",
    "    for column in df.columns:\n",
    "\n",
    "        dtype = df[column].dtype\n",
    "        \n",
    "        if dtype == \"object\":\n",
    "            df[column] = df[column].fillna(value=\"0\")\n",
    "        elif dtype == \"float64\":\n",
    "            df[column] = df[column].fillna(value=0.0)\n",
    "        elif dtype == \"bool\":\n",
    "            df[column] = df[column].fillna(value=False)\n",
    "    \n",
    "    return df"
   ]
  },
  {
   "cell_type": "code",
   "execution_count": 40,
   "metadata": {},
   "outputs": [],
   "source": [
    "train_df = filter_missing(train_df)\n",
    "test_df = filter_missing(test_df)"
   ]
  },
  {
   "cell_type": "code",
   "execution_count": 41,
   "metadata": {},
   "outputs": [],
   "source": [
    "# convert booleans\n",
    "\n",
    "train_df[[\"CryoSleep\", \"VIP\"]] = train_df[\n",
    "    [\"CryoSleep\", \"VIP\"]].astype(str)\n",
    "\n",
    "test_df[[\"CryoSleep\", \"VIP\"]] = test_df[\n",
    "    [\"CryoSleep\", \"VIP\"]].astype(str)\n",
    "\n",
    "train_df[\"Transported\"] = train_df[\"Transported\"].astype(int)"
   ]
  },
  {
   "cell_type": "code",
   "execution_count": 64,
   "metadata": {},
   "outputs": [],
   "source": [
    "# split into training and validation datasets\n",
    "\n",
    "val_frac = .2\n",
    "val_df = train_df.sample(frac=0.2)\n",
    "train_df = train_df.drop(val_df.index)"
   ]
  },
  {
   "cell_type": "code",
   "execution_count": 66,
   "metadata": {},
   "outputs": [],
   "source": [
    "# save dataframes\n",
    "\n",
    "train_df.to_pickle(\"../data/train_df.pkl\")\n",
    "val_df.to_pickle(\"../data/val_df.pkl\")\n",
    "test_df.to_pickle(\"../data/test_df.pkl\")"
   ]
  },
  {
   "cell_type": "code",
   "execution_count": 2,
   "metadata": {},
   "outputs": [],
   "source": [
    "# load dataframes\n",
    "train_df = pd.read_pickle(\"../data/train_df.pkl\")\n",
    "val_df = pd.read_pickle(\"../data/val_df.pkl\")\n",
    "test_df = pd.read_pickle(\"../data/test_df.pkl\")"
   ]
  },
  {
   "cell_type": "code",
   "execution_count": 3,
   "metadata": {},
   "outputs": [],
   "source": [
    "# convert pd DataFrame to tf Dataset labelled with answers\n",
    "\n",
    "def dataframe_to_dataset(df):\n",
    "    \n",
    "    df = df.copy()\n",
    "    labels = df.pop(\"Transported\").astype(int)\n",
    "    ds = tf.data.Dataset.from_tensor_slices((dict(df), labels))\n",
    "    ds = ds.shuffle(buffer_size=len(df))\n",
    "\n",
    "    return ds"
   ]
  },
  {
   "cell_type": "code",
   "execution_count": 4,
   "metadata": {},
   "outputs": [
    {
     "name": "stderr",
     "output_type": "stream",
     "text": [
      "2023-07-11 16:18:55.018788: I tensorflow/compiler/xla/stream_executor/cuda/cuda_gpu_executor.cc:996] successful NUMA node read from SysFS had negative value (-1), but there must be at least one NUMA node, so returning NUMA node zero. See more at https://github.com/torvalds/linux/blob/v6.0/Documentation/ABI/testing/sysfs-bus-pci#L344-L355\n",
      "2023-07-11 16:18:55.019690: W tensorflow/core/common_runtime/gpu/gpu_device.cc:1956] Cannot dlopen some GPU libraries. Please make sure the missing libraries mentioned above are installed properly if you would like to use GPU. Follow the guide at https://www.tensorflow.org/install/gpu for how to download and setup the required libraries for your platform.\n",
      "Skipping registering GPU devices...\n"
     ]
    }
   ],
   "source": [
    "# convert and batch train and val datasets \n",
    "\n",
    "train_ds = dataframe_to_dataset(train_df)\n",
    "val_ds = dataframe_to_dataset(val_df)\n",
    "\n",
    "batch_size = 32\n",
    "train_ds = train_ds.batch(batch_size)\n",
    "val_ds = val_ds.batch(batch_size)"
   ]
  },
  {
   "cell_type": "code",
   "execution_count": 5,
   "metadata": {},
   "outputs": [],
   "source": [
    "# convert test df\n",
    "test_ds = tf.data.Dataset.from_tensor_slices(dict(test_df))"
   ]
  },
  {
   "attachments": {},
   "cell_type": "markdown",
   "metadata": {},
   "source": [
    "### Encode input features"
   ]
  },
  {
   "cell_type": "code",
   "execution_count": 6,
   "metadata": {},
   "outputs": [],
   "source": [
    "from tensorflow.keras.layers import StringLookup\n",
    "\n",
    "def encode_categorical_feature(feature, name, feature_ds):\n",
    "\n",
    "    lookup = StringLookup(output_mode=\"one_hot\")\n",
    "    lookup.adapt(feature_ds)\n",
    "\n",
    "    return lookup(feature)"
   ]
  },
  {
   "cell_type": "code",
   "execution_count": 7,
   "metadata": {},
   "outputs": [],
   "source": [
    "from tensorflow.keras.layers import Normalization\n",
    "\n",
    "def encode_float_feature(feature, name, feature_ds):\n",
    "\n",
    "    normalizer = Normalization()\n",
    "    normalizer.adapt(feature_ds)\n",
    "    \n",
    "    return normalizer(feature)"
   ]
  },
  {
   "cell_type": "code",
   "execution_count": 8,
   "metadata": {},
   "outputs": [],
   "source": [
    "def encode_feature(feature, name, dataset):\n",
    "\n",
    "    # construct dataset with only given feature\n",
    "    feature_ds = dataset.map(lambda x, y: x[name])\n",
    "    feature_ds = feature_ds.map(lambda x: tf.expand_dims(x, -1))\n",
    "\n",
    "    # build encoder based on feature dtype\n",
    "    dtype = feature_ds.element_spec.dtype\n",
    "\n",
    "    if dtype == tf.string:\n",
    "        encoded_feature = encode_categorical_feature(feature, name, feature_ds)\n",
    "    elif dtype == tf.float64:\n",
    "        encoded_feature = encode_float_feature(feature, name, feature_ds)\n",
    "    else:\n",
    "        print(\"Unexpected datatype: \" + str(dtype))\n",
    "        encoded_feature = \"Pain\"\n",
    "\n",
    "    return encoded_feature"
   ]
  },
  {
   "attachments": {},
   "cell_type": "markdown",
   "metadata": {},
   "source": [
    "### Build model from encoded features"
   ]
  },
  {
   "cell_type": "code",
   "execution_count": 9,
   "metadata": {},
   "outputs": [],
   "source": [
    "# build input layers based on feature specs from ds\n",
    "\n",
    "all_inputs = dict()\n",
    "\n",
    "features = train_ds.element_spec[0]\n",
    "\n",
    "for name, spec in features.items():\n",
    "    all_inputs[name] = keras.Input(\n",
    "        shape=(1,),\n",
    "        name=name,\n",
    "        dtype=spec.dtype\n",
    "    )"
   ]
  },
  {
   "cell_type": "code",
   "execution_count": 10,
   "metadata": {},
   "outputs": [
    {
     "name": "stderr",
     "output_type": "stream",
     "text": [
      "2023-07-11 16:19:00.649242: I tensorflow/core/common_runtime/executor.cc:1197] [/device:CPU:0] (DEBUG INFO) Executor start aborting (this does not indicate an error and you can ignore this message): INVALID_ARGUMENT: You must feed a value for placeholder tensor 'Placeholder/_2' with dtype double and shape [6954]\n",
      "\t [[{{node Placeholder/_2}}]]\n",
      "2023-07-11 16:19:00.649669: I tensorflow/core/common_runtime/executor.cc:1197] [/device:CPU:0] (DEBUG INFO) Executor start aborting (this does not indicate an error and you can ignore this message): INVALID_ARGUMENT: You must feed a value for placeholder tensor 'Placeholder/_6' with dtype double and shape [6954]\n",
      "\t [[{{node Placeholder/_6}}]]\n",
      "2023-07-11 16:19:00.952667: I tensorflow/core/common_runtime/executor.cc:1197] [/device:CPU:0] (DEBUG INFO) Executor start aborting (this does not indicate an error and you can ignore this message): INVALID_ARGUMENT: You must feed a value for placeholder tensor 'Placeholder/_7' with dtype string and shape [6954]\n",
      "\t [[{{node Placeholder/_7}}]]\n",
      "2023-07-11 16:19:00.953190: I tensorflow/core/common_runtime/executor.cc:1197] [/device:CPU:0] (DEBUG INFO) Executor start aborting (this does not indicate an error and you can ignore this message): INVALID_ARGUMENT: You must feed a value for placeholder tensor 'Placeholder/_7' with dtype string and shape [6954]\n",
      "\t [[{{node Placeholder/_7}}]]\n",
      "2023-07-11 16:19:01.210857: I tensorflow/core/common_runtime/executor.cc:1197] [/device:CPU:0] (DEBUG INFO) Executor start aborting (this does not indicate an error and you can ignore this message): INVALID_ARGUMENT: You must feed a value for placeholder tensor 'Placeholder/_2' with dtype double and shape [6954]\n",
      "\t [[{{node Placeholder/_2}}]]\n",
      "2023-07-11 16:19:01.211291: I tensorflow/core/common_runtime/executor.cc:1197] [/device:CPU:0] (DEBUG INFO) Executor start aborting (this does not indicate an error and you can ignore this message): INVALID_ARGUMENT: You must feed a value for placeholder tensor 'Placeholder/_5' with dtype string and shape [6954]\n",
      "\t [[{{node Placeholder/_5}}]]\n",
      "2023-07-11 16:19:01.440583: I tensorflow/core/common_runtime/executor.cc:1197] [/device:CPU:0] (DEBUG INFO) Executor start aborting (this does not indicate an error and you can ignore this message): INVALID_ARGUMENT: You must feed a value for placeholder tensor 'Placeholder/_8' with dtype double and shape [6954]\n",
      "\t [[{{node Placeholder/_8}}]]\n",
      "2023-07-11 16:19:01.441012: I tensorflow/core/common_runtime/executor.cc:1197] [/device:CPU:0] (DEBUG INFO) Executor start aborting (this does not indicate an error and you can ignore this message): INVALID_ARGUMENT: You must feed a value for placeholder tensor 'Placeholder/_4' with dtype string and shape [6954]\n",
      "\t [[{{node Placeholder/_4}}]]\n",
      "2023-07-11 16:19:01.818364: I tensorflow/core/common_runtime/executor.cc:1197] [/device:CPU:0] (DEBUG INFO) Executor start aborting (this does not indicate an error and you can ignore this message): INVALID_ARGUMENT: You must feed a value for placeholder tensor 'Placeholder/_6' with dtype double and shape [6954]\n",
      "\t [[{{node Placeholder/_6}}]]\n",
      "2023-07-11 16:19:01.818843: I tensorflow/core/common_runtime/executor.cc:1197] [/device:CPU:0] (DEBUG INFO) Executor start aborting (this does not indicate an error and you can ignore this message): INVALID_ARGUMENT: You must feed a value for placeholder tensor 'Placeholder/_7' with dtype string and shape [6954]\n",
      "\t [[{{node Placeholder/_7}}]]\n",
      "2023-07-11 16:19:02.056145: I tensorflow/core/common_runtime/executor.cc:1197] [/device:CPU:0] (DEBUG INFO) Executor start aborting (this does not indicate an error and you can ignore this message): INVALID_ARGUMENT: You must feed a value for placeholder tensor 'Placeholder/_7' with dtype string and shape [6954]\n",
      "\t [[{{node Placeholder/_7}}]]\n",
      "2023-07-11 16:19:02.056700: I tensorflow/core/common_runtime/executor.cc:1197] [/device:CPU:0] (DEBUG INFO) Executor start aborting (this does not indicate an error and you can ignore this message): INVALID_ARGUMENT: You must feed a value for placeholder tensor 'Placeholder/_4' with dtype string and shape [6954]\n",
      "\t [[{{node Placeholder/_4}}]]\n",
      "2023-07-11 16:19:02.430765: I tensorflow/core/common_runtime/executor.cc:1197] [/device:CPU:0] (DEBUG INFO) Executor start aborting (this does not indicate an error and you can ignore this message): INVALID_ARGUMENT: You must feed a value for placeholder tensor 'Placeholder/_6' with dtype double and shape [6954]\n",
      "\t [[{{node Placeholder/_6}}]]\n",
      "2023-07-11 16:19:02.431415: I tensorflow/core/common_runtime/executor.cc:1197] [/device:CPU:0] (DEBUG INFO) Executor start aborting (this does not indicate an error and you can ignore this message): INVALID_ARGUMENT: You must feed a value for placeholder tensor 'Placeholder/_3' with dtype string and shape [6954]\n",
      "\t [[{{node Placeholder/_3}}]]\n",
      "2023-07-11 16:19:02.799884: I tensorflow/core/common_runtime/executor.cc:1197] [/device:CPU:0] (DEBUG INFO) Executor start aborting (this does not indicate an error and you can ignore this message): INVALID_ARGUMENT: You must feed a value for placeholder tensor 'Placeholder/_4' with dtype string and shape [6954]\n",
      "\t [[{{node Placeholder/_4}}]]\n",
      "2023-07-11 16:19:02.800331: I tensorflow/core/common_runtime/executor.cc:1197] [/device:CPU:0] (DEBUG INFO) Executor start aborting (this does not indicate an error and you can ignore this message): INVALID_ARGUMENT: You must feed a value for placeholder tensor 'Placeholder/_9' with dtype double and shape [6954]\n",
      "\t [[{{node Placeholder/_9}}]]\n",
      "2023-07-11 16:19:03.162622: I tensorflow/core/common_runtime/executor.cc:1197] [/device:CPU:0] (DEBUG INFO) Executor start aborting (this does not indicate an error and you can ignore this message): INVALID_ARGUMENT: You must feed a value for placeholder tensor 'Placeholder/_12' with dtype double and shape [6954]\n",
      "\t [[{{node Placeholder/_12}}]]\n",
      "2023-07-11 16:19:03.163107: I tensorflow/core/common_runtime/executor.cc:1197] [/device:CPU:0] (DEBUG INFO) Executor start aborting (this does not indicate an error and you can ignore this message): INVALID_ARGUMENT: You must feed a value for placeholder tensor 'Placeholder/_9' with dtype double and shape [6954]\n",
      "\t [[{{node Placeholder/_9}}]]\n",
      "2023-07-11 16:19:03.500460: I tensorflow/core/common_runtime/executor.cc:1197] [/device:CPU:0] (DEBUG INFO) Executor start aborting (this does not indicate an error and you can ignore this message): INVALID_ARGUMENT: You must feed a value for placeholder tensor 'Placeholder/_13' with dtype int64 and shape [6954]\n",
      "\t [[{{node Placeholder/_13}}]]\n",
      "2023-07-11 16:19:03.500894: I tensorflow/core/common_runtime/executor.cc:1197] [/device:CPU:0] (DEBUG INFO) Executor start aborting (this does not indicate an error and you can ignore this message): INVALID_ARGUMENT: You must feed a value for placeholder tensor 'Placeholder/_0' with dtype double and shape [6954]\n",
      "\t [[{{node Placeholder/_0}}]]\n",
      "2023-07-11 16:19:03.841458: I tensorflow/core/common_runtime/executor.cc:1197] [/device:CPU:0] (DEBUG INFO) Executor start aborting (this does not indicate an error and you can ignore this message): INVALID_ARGUMENT: You must feed a value for placeholder tensor 'Placeholder/_4' with dtype string and shape [6954]\n",
      "\t [[{{node Placeholder/_4}}]]\n",
      "2023-07-11 16:19:03.841895: I tensorflow/core/common_runtime/executor.cc:1197] [/device:CPU:0] (DEBUG INFO) Executor start aborting (this does not indicate an error and you can ignore this message): INVALID_ARGUMENT: You must feed a value for placeholder tensor 'Placeholder/_6' with dtype double and shape [6954]\n",
      "\t [[{{node Placeholder/_6}}]]\n",
      "2023-07-11 16:19:04.077619: I tensorflow/core/common_runtime/executor.cc:1197] [/device:CPU:0] (DEBUG INFO) Executor start aborting (this does not indicate an error and you can ignore this message): INVALID_ARGUMENT: You must feed a value for placeholder tensor 'Placeholder/_4' with dtype string and shape [6954]\n",
      "\t [[{{node Placeholder/_4}}]]\n",
      "2023-07-11 16:19:04.078114: I tensorflow/core/common_runtime/executor.cc:1197] [/device:CPU:0] (DEBUG INFO) Executor start aborting (this does not indicate an error and you can ignore this message): INVALID_ARGUMENT: You must feed a value for placeholder tensor 'Placeholder/_11' with dtype string and shape [6954]\n",
      "\t [[{{node Placeholder/_11}}]]\n",
      "2023-07-11 16:19:04.413746: I tensorflow/core/common_runtime/executor.cc:1197] [/device:CPU:0] (DEBUG INFO) Executor start aborting (this does not indicate an error and you can ignore this message): INVALID_ARGUMENT: You must feed a value for placeholder tensor 'Placeholder/_8' with dtype double and shape [6954]\n",
      "\t [[{{node Placeholder/_8}}]]\n",
      "2023-07-11 16:19:04.414487: I tensorflow/core/common_runtime/executor.cc:1197] [/device:CPU:0] (DEBUG INFO) Executor start aborting (this does not indicate an error and you can ignore this message): INVALID_ARGUMENT: You must feed a value for placeholder tensor 'Placeholder/_10' with dtype double and shape [6954]\n",
      "\t [[{{node Placeholder/_10}}]]\n"
     ]
    }
   ],
   "source": [
    "# build individual encoding layers for each feature\n",
    "\n",
    "encodings = dict()\n",
    "\n",
    "for name, spec in features.items():\n",
    "    encodings[name] = encode_feature(\n",
    "        all_inputs[name],\n",
    "        name,\n",
    "        train_ds\n",
    "    )"
   ]
  },
  {
   "cell_type": "code",
   "execution_count": 34,
   "metadata": {},
   "outputs": [],
   "source": [
    "# build dense network with tunable hyperparameters\n",
    "\n",
    "def build_model(hp):\n",
    "\n",
    "    x = layers.concatenate(encodings.values())\n",
    "\n",
    "    x = layers.Dropout(rate=.1)(x)\n",
    "\n",
    "    for i in range(hp.Int(\"num_layers\", 1, 3)):\n",
    "        x = layers.Dense(\n",
    "            units=hp.Int(f\"units_{i}\", min_value=16, max_value=256, step=32),\n",
    "            activation=\"relu\"\n",
    "        )(x)\n",
    "\n",
    "        x = layers.Dropout(rate=.4)(x)\n",
    "\n",
    "    inputs = list(all_inputs.values())\n",
    "    output = layers.Dense(1, activation=\"sigmoid\")(x)\n",
    "\n",
    "    model = keras.Model(inputs, output)\n",
    "    model.compile(\n",
    "        optimizer=keras.optimizers.Adam(learning_rate=.01),\n",
    "        loss=\"binary_crossentropy\",\n",
    "        metrics=[\"accuracy\"]\n",
    "    )\n",
    "\n",
    "    return model"
   ]
  },
  {
   "cell_type": "markdown",
   "metadata": {},
   "source": [
    "### Tune hyperparameters"
   ]
  },
  {
   "cell_type": "code",
   "execution_count": 35,
   "metadata": {},
   "outputs": [],
   "source": [
    "# build hyperparameter tuner\n",
    "#   searches for number of dense layers (1-3)\n",
    "#   and units per layer (16-256)\n",
    "\n",
    "tuner = keras_tuner.BayesianOptimization(\n",
    "    hypermodel=build_model,\n",
    "    objective=\"val_accuracy\",\n",
    "    max_trials=25,\n",
    "    executions_per_trial=1,\n",
    "    overwrite=True,\n",
    "    directory=\"hyperparameters\",\n",
    "    project_name=\"spaceship-titanic\"\n",
    ")"
   ]
  },
  {
   "cell_type": "code",
   "execution_count": 36,
   "metadata": {},
   "outputs": [
    {
     "name": "stdout",
     "output_type": "stream",
     "text": [
      "Trial 25 Complete [00h 00m 05s]\n",
      "val_accuracy: 0.7929844856262207\n",
      "\n",
      "Best val_accuracy So Far: 0.7981598377227783\n",
      "Total elapsed time: 00h 02m 25s\n",
      "INFO:tensorflow:Oracle triggered exit\n"
     ]
    }
   ],
   "source": [
    "# automatically optimize hyperparameters\n",
    "\n",
    "tuner.search(train_ds,\n",
    "             validation_data=val_ds,\n",
    "             epochs=5,\n",
    "             callbacks=[keras.callbacks.TensorBoard(\"tb_logs\")]\n",
    "             )"
   ]
  },
  {
   "cell_type": "code",
   "execution_count": 37,
   "metadata": {},
   "outputs": [
    {
     "name": "stdout",
     "output_type": "stream",
     "text": [
      "Results summary\n",
      "Results in hyperparameters/spaceship-titanic\n",
      "Showing 10 best trials\n",
      "Objective(name=\"val_accuracy\", direction=\"max\")\n",
      "\n",
      "Trial 12 summary\n",
      "Hyperparameters:\n",
      "num_layers: 3\n",
      "units_0: 144\n",
      "units_1: 16\n",
      "units_2: 16\n",
      "Score: 0.7981598377227783\n",
      "\n",
      "Trial 01 summary\n",
      "Hyperparameters:\n",
      "num_layers: 3\n",
      "units_0: 144\n",
      "units_1: 16\n",
      "units_2: 16\n",
      "Score: 0.7970097661018372\n",
      "\n",
      "Trial 10 summary\n",
      "Hyperparameters:\n",
      "num_layers: 1\n",
      "units_0: 16\n",
      "units_1: 240\n",
      "units_2: 208\n",
      "Score: 0.7970097661018372\n",
      "\n",
      "Trial 15 summary\n",
      "Hyperparameters:\n",
      "num_layers: 1\n",
      "units_0: 16\n",
      "units_1: 240\n",
      "units_2: 208\n",
      "Score: 0.7970097661018372\n",
      "\n",
      "Trial 19 summary\n",
      "Hyperparameters:\n",
      "num_layers: 1\n",
      "units_0: 16\n",
      "units_1: 240\n",
      "units_2: 208\n",
      "Score: 0.7970097661018372\n",
      "\n",
      "Trial 21 summary\n",
      "Hyperparameters:\n",
      "num_layers: 1\n",
      "units_0: 16\n",
      "units_1: 240\n",
      "units_2: 240\n",
      "Score: 0.796434760093689\n",
      "\n",
      "Trial 17 summary\n",
      "Hyperparameters:\n",
      "num_layers: 1\n",
      "units_0: 16\n",
      "units_1: 240\n",
      "units_2: 240\n",
      "Score: 0.795859694480896\n",
      "\n",
      "Trial 16 summary\n",
      "Hyperparameters:\n",
      "num_layers: 1\n",
      "units_0: 16\n",
      "units_1: 240\n",
      "units_2: 208\n",
      "Score: 0.795284628868103\n",
      "\n",
      "Trial 00 summary\n",
      "Hyperparameters:\n",
      "num_layers: 1\n",
      "units_0: 240\n",
      "Score: 0.7947096228599548\n",
      "\n",
      "Trial 11 summary\n",
      "Hyperparameters:\n",
      "num_layers: 2\n",
      "units_0: 208\n",
      "units_1: 80\n",
      "units_2: 176\n",
      "Score: 0.7947096228599548\n"
     ]
    }
   ],
   "source": [
    "tuner.results_summary()"
   ]
  },
  {
   "cell_type": "markdown",
   "metadata": {},
   "source": [
    "### Train model using best hyperparameters on full dataset"
   ]
  },
  {
   "cell_type": "code",
   "execution_count": 38,
   "metadata": {},
   "outputs": [
    {
     "name": "stdout",
     "output_type": "stream",
     "text": [
      "Epoch 1/10\n"
     ]
    },
    {
     "name": "stderr",
     "output_type": "stream",
     "text": [
      "2023-07-11 16:48:51.205941: I tensorflow/core/common_runtime/executor.cc:1197] [/device:CPU:0] (DEBUG INFO) Executor start aborting (this does not indicate an error and you can ignore this message): INVALID_ARGUMENT: You must feed a value for placeholder tensor 'Placeholder/_0' with dtype double and shape [6954]\n",
      "\t [[{{node Placeholder/_0}}]]\n",
      "2023-07-11 16:48:51.206727: I tensorflow/core/common_runtime/executor.cc:1197] [/device:CPU:0] (DEBUG INFO) Executor start aborting (this does not indicate an error and you can ignore this message): INVALID_ARGUMENT: You must feed a value for placeholder tensor 'Placeholder/_36' with dtype int64 and shape [1739]\n",
      "\t [[{{node Placeholder/_36}}]]\n"
     ]
    },
    {
     "name": "stdout",
     "output_type": "stream",
     "text": [
      "273/273 [==============================] - 2s 3ms/step - loss: 0.5498 - accuracy: 0.7175\n",
      "Epoch 2/10\n",
      "273/273 [==============================] - 1s 3ms/step - loss: 0.4955 - accuracy: 0.7539\n",
      "Epoch 3/10\n",
      "273/273 [==============================] - 1s 3ms/step - loss: 0.4960 - accuracy: 0.7567\n",
      "Epoch 4/10\n",
      "273/273 [==============================] - 1s 3ms/step - loss: 0.4803 - accuracy: 0.7782\n",
      "Epoch 5/10\n",
      "273/273 [==============================] - 1s 3ms/step - loss: 0.4804 - accuracy: 0.7669\n",
      "Epoch 6/10\n",
      "273/273 [==============================] - 1s 2ms/step - loss: 0.4705 - accuracy: 0.7695\n",
      "Epoch 7/10\n",
      "273/273 [==============================] - 1s 2ms/step - loss: 0.4768 - accuracy: 0.7687\n",
      "Epoch 8/10\n",
      "273/273 [==============================] - 1s 3ms/step - loss: 0.4756 - accuracy: 0.7768\n",
      "Epoch 9/10\n",
      "273/273 [==============================] - 1s 2ms/step - loss: 0.4723 - accuracy: 0.7736\n",
      "Epoch 10/10\n",
      "273/273 [==============================] - 1s 3ms/step - loss: 0.4746 - accuracy: 0.7720\n"
     ]
    },
    {
     "data": {
      "text/plain": [
       "<keras.callbacks.History at 0x7fd2d26b4750>"
      ]
     },
     "execution_count": 38,
     "metadata": {},
     "output_type": "execute_result"
    }
   ],
   "source": [
    "best_hps = tuner.get_best_hyperparameters(1)[0]\n",
    "model = build_model(best_hps)\n",
    "\n",
    "full_train_ds = train_ds.concatenate(val_ds)\n",
    "model.fit(full_train_ds, epochs=10)"
   ]
  },
  {
   "attachments": {},
   "cell_type": "markdown",
   "metadata": {},
   "source": [
    "### Make predictions for test data"
   ]
  },
  {
   "cell_type": "code",
   "execution_count": 220,
   "metadata": {},
   "outputs": [
    {
     "name": "stdout",
     "output_type": "stream",
     "text": [
      "134/134 [==============================] - 0s 2ms/step\n"
     ]
    }
   ],
   "source": [
    "predictions = model.predict(dict(test_df))"
   ]
  },
  {
   "cell_type": "code",
   "execution_count": 223,
   "metadata": {},
   "outputs": [],
   "source": [
    "labelled_predictions = pd.DataFrame()\n",
    "labelled_predictions[\"PassengerId\"] = test_ids\n",
    "labelled_predictions[\"Transported\"] = [round(pred[0]) for pred in predictions]"
   ]
  },
  {
   "cell_type": "code",
   "execution_count": 224,
   "metadata": {},
   "outputs": [],
   "source": [
    "labelled_predictions.to_csv(\"../submissions/first_submission.csv\", index=False)"
   ]
  },
  {
   "cell_type": "code",
   "execution_count": null,
   "metadata": {},
   "outputs": [],
   "source": []
  }
 ],
 "metadata": {
  "kernelspec": {
   "display_name": "kaggle",
   "language": "python",
   "name": "python3"
  },
  "language_info": {
   "codemirror_mode": {
    "name": "ipython",
    "version": 3
   },
   "file_extension": ".py",
   "mimetype": "text/x-python",
   "name": "python",
   "nbconvert_exporter": "python",
   "pygments_lexer": "ipython3",
   "version": "3.11.3"
  },
  "orig_nbformat": 4
 },
 "nbformat": 4,
 "nbformat_minor": 2
}
