{
 "cells": [
  {
   "cell_type": "code",
   "execution_count": 13,
   "metadata": {},
   "outputs": [],
   "source": [
    "import pandas as pd\n",
    "import numpy as np"
   ]
  },
  {
   "cell_type": "markdown",
   "metadata": {},
   "source": [
    "### Get normalized numeric data"
   ]
  },
  {
   "cell_type": "code",
   "execution_count": 50,
   "metadata": {},
   "outputs": [],
   "source": [
    "allTrainingDataRaw = pd.read_csv('data/train.csv')\n",
    "\n",
    "allTrainingLabels = allTrainingDataRaw['Transported']\n",
    "\n",
    "allTrainingData = allTrainingDataRaw.fillna(value={\n",
    "    'HomePlanet':'None',\n",
    "    'CryoSleep':'None',\n",
    "    'Cabin':'0/0/0',\n",
    "    'Destination':'None',\n",
    "    'Age':0,\n",
    "    'VIP':'False',\n",
    "    'RoomService':0,\n",
    "    'FoodCourt':0,\n",
    "    'ShoppingMall':0,\n",
    "    'Spa':0,\n",
    "    'VRDeck':0,\n",
    "    'Name':'None'\n",
    "})\n",
    "\n",
    "allTrainingData[['CabinDeck','CabinNumber','CabinSide']] = allTrainingData['Cabin'].str.split('/').tolist()\n",
    "allTrainingData['CabinNumber'] = allTrainingData['CabinNumber'].astype('float64')\n",
    "allTrainingData = allTrainingData.drop(columns=['Cabin','Name'])\n",
    "allTrainingDataNumeric = allTrainingData.select_dtypes(include='float64').join(\n",
    "    pd.get_dummies(allTrainingData.select_dtypes(include='object').drop(columns=['PassengerId'])))\n",
    "\n",
    "allTrainingDataNormalized = allTrainingDataNumeric.apply(lambda x: x/x.max(), axis=0)\n",
    "\n",
    "valSplitIndex = 8000\n",
    "\n",
    "trainingData = allTrainingDataNormalized.iloc[:valSplitIndex]\n",
    "validationData = allTrainingDataNormalized.iloc[valSplitIndex:]\n",
    "\n",
    "trainingLabels = allTrainingLabels.iloc[:valSplitIndex]\n",
    "validationLabels = allTrainingLabels.iloc[valSplitIndex:]"
   ]
  },
  {
   "cell_type": "markdown",
   "metadata": {},
   "source": [
    "### Build model"
   ]
  },
  {
   "cell_type": "code",
   "execution_count": 99,
   "metadata": {},
   "outputs": [],
   "source": [
    "from keras import models\n",
    "from keras import layers\n",
    "\n",
    "inputLen = trainingData.shape[1]\n",
    "\n",
    "model = models.Sequential()\n",
    "model.add(layers.Dense(100, activation='relu', input_shape=(inputLen,)))\n",
    "model.add(layers.Dense(100, activation='relu'))\n",
    "model.add(layers.Dense(1, activation='sigmoid'))\n",
    "\n",
    "model.compile(optimizer='rmsprop',loss='binary_crossentropy',metrics=['acc'])"
   ]
  },
  {
   "cell_type": "markdown",
   "metadata": {},
   "source": [
    "### Train model"
   ]
  },
  {
   "cell_type": "code",
   "execution_count": 101,
   "metadata": {},
   "outputs": [
    {
     "name": "stdout",
     "output_type": "stream",
     "text": [
      "Epoch 1/20\n",
      "125/125 [==============================] - 0s 2ms/step - loss: 0.3879 - acc: 0.8105\n",
      "Epoch 2/20\n",
      "125/125 [==============================] - 0s 2ms/step - loss: 0.3872 - acc: 0.8099\n",
      "Epoch 3/20\n",
      "125/125 [==============================] - 0s 2ms/step - loss: 0.3834 - acc: 0.8127\n",
      "Epoch 4/20\n",
      "125/125 [==============================] - 0s 2ms/step - loss: 0.3838 - acc: 0.8092\n",
      "Epoch 5/20\n",
      "125/125 [==============================] - 0s 2ms/step - loss: 0.3823 - acc: 0.8104\n",
      "Epoch 6/20\n",
      "125/125 [==============================] - 0s 2ms/step - loss: 0.3838 - acc: 0.8091\n",
      "Epoch 7/20\n",
      "125/125 [==============================] - 0s 2ms/step - loss: 0.3814 - acc: 0.8129\n",
      "Epoch 8/20\n",
      "125/125 [==============================] - 0s 2ms/step - loss: 0.3797 - acc: 0.8123\n",
      "Epoch 9/20\n",
      "125/125 [==============================] - 0s 2ms/step - loss: 0.3786 - acc: 0.8165\n",
      "Epoch 10/20\n",
      "125/125 [==============================] - 0s 2ms/step - loss: 0.3775 - acc: 0.8142\n",
      "Epoch 11/20\n",
      "125/125 [==============================] - 0s 2ms/step - loss: 0.3778 - acc: 0.8154\n",
      "Epoch 12/20\n",
      "125/125 [==============================] - 0s 2ms/step - loss: 0.3778 - acc: 0.8123\n",
      "Epoch 13/20\n",
      "125/125 [==============================] - 0s 3ms/step - loss: 0.3764 - acc: 0.8159\n",
      "Epoch 14/20\n",
      "125/125 [==============================] - 0s 2ms/step - loss: 0.3749 - acc: 0.8131\n",
      "Epoch 15/20\n",
      "125/125 [==============================] - 0s 2ms/step - loss: 0.3721 - acc: 0.8179\n",
      "Epoch 16/20\n",
      "125/125 [==============================] - 0s 2ms/step - loss: 0.3734 - acc: 0.8177\n",
      "Epoch 17/20\n",
      "125/125 [==============================] - 0s 2ms/step - loss: 0.3717 - acc: 0.8186\n",
      "Epoch 18/20\n",
      "125/125 [==============================] - 0s 3ms/step - loss: 0.3730 - acc: 0.8139\n",
      "Epoch 19/20\n",
      "125/125 [==============================] - 0s 2ms/step - loss: 0.3702 - acc: 0.8177\n",
      "Epoch 20/20\n",
      "125/125 [==============================] - 0s 2ms/step - loss: 0.3684 - acc: 0.8216\n"
     ]
    }
   ],
   "source": [
    "history = model.fit(trainingData, trainingLabels,\n",
    "    epochs=20,\n",
    "    batch_size=64,\n",
    "    validation_data=(validationData, validationLabels))"
   ]
  },
  {
   "cell_type": "markdown",
   "metadata": {},
   "source": [
    "### Prepare test data"
   ]
  },
  {
   "cell_type": "code",
   "execution_count": 97,
   "metadata": {},
   "outputs": [],
   "source": [
    "testDataRaw = pd.read_csv('data/test.csv')\n",
    "\n",
    "testIds = testDataRaw['PassengerId']\n",
    "\n",
    "testData = testDataRaw.fillna(value={\n",
    "    'HomePlanet':'None',\n",
    "    'CryoSleep':'None',\n",
    "    'Cabin':'0/0/0',\n",
    "    'Destination':'None',\n",
    "    'Age':0,\n",
    "    'VIP':'False',\n",
    "    'RoomService':0,\n",
    "    'FoodCourt':0,\n",
    "    'ShoppingMall':0,\n",
    "    'Spa':0,\n",
    "    'VRDeck':0,\n",
    "    'Name':'None'\n",
    "})\n",
    "\n",
    "testData[['CabinDeck','CabinNumber','CabinSide']] = testData['Cabin'].str.split('/').tolist()\n",
    "testData['CabinNumber'] = testData['CabinNumber'].astype('float64')\n",
    "testData = testData.drop(columns=['Cabin','Name'])\n",
    "testDataNumeric = testData.select_dtypes(include='float64').join(\n",
    "    pd.get_dummies(testData.select_dtypes(include='object').drop(columns=['PassengerId'])))\n",
    "\n",
    "testData = testDataNumeric.apply(lambda x: x/x.max(), axis=0)"
   ]
  },
  {
   "cell_type": "markdown",
   "metadata": {},
   "source": [
    "\n",
    "### Make predictions"
   ]
  },
  {
   "cell_type": "code",
   "execution_count": 98,
   "metadata": {},
   "outputs": [
    {
     "name": "stdout",
     "output_type": "stream",
     "text": [
      "134/134 [==============================] - 0s 761us/step\n"
     ]
    }
   ],
   "source": [
    "import csv\n",
    "\n",
    "predictions = model.predict(testData).tolist()\n",
    "results = [[testIds[i], bool(round(predictions[i][0]))] for i in range(len(predictions))]\n",
    "\n",
    "with open('submissions/mySubmission1.csv','w',newline='') as submissionFile:\n",
    "\n",
    "    writer = csv.writer(submissionFile, delimiter=',')\n",
    "    writer.writerow([\"PassengerId\", \"Transported\"])\n",
    "\n",
    "    for result in results:\n",
    "        writer.writerow(result)"
   ]
  },
  {
   "cell_type": "code",
   "execution_count": null,
   "metadata": {},
   "outputs": [],
   "source": []
  }
 ],
 "metadata": {
  "interpreter": {
   "hash": "8dde927ad0e7f7ee31f5c97111f1b740701b0138403eb80cb203ece1cd89b21b"
  },
  "kernelspec": {
   "display_name": "Python 3.8.8 ('keras-env')",
   "language": "python",
   "name": "python3"
  },
  "language_info": {
   "codemirror_mode": {
    "name": "ipython",
    "version": 3
   },
   "file_extension": ".py",
   "mimetype": "text/x-python",
   "name": "python",
   "nbconvert_exporter": "python",
   "pygments_lexer": "ipython3",
   "version": "3.10.5"
  },
  "orig_nbformat": 4
 },
 "nbformat": 4,
 "nbformat_minor": 2
}
