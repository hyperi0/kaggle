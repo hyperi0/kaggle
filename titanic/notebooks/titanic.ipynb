{
 "cells": [
  {
   "cell_type": "code",
   "execution_count": 1,
   "metadata": {},
   "outputs": [
    {
     "name": "stderr",
     "output_type": "stream",
     "text": [
      "2023-07-03 17:30:24.191149: I tensorflow/tsl/cuda/cudart_stub.cc:28] Could not find cuda drivers on your machine, GPU will not be used.\n",
      "2023-07-03 17:30:24.233823: I tensorflow/tsl/cuda/cudart_stub.cc:28] Could not find cuda drivers on your machine, GPU will not be used.\n",
      "2023-07-03 17:30:24.234434: I tensorflow/core/platform/cpu_feature_guard.cc:182] This TensorFlow binary is optimized to use available CPU instructions in performance-critical operations.\n",
      "To enable the following instructions: AVX2 FMA, in other operations, rebuild TensorFlow with the appropriate compiler flags.\n",
      "2023-07-03 17:30:25.117518: W tensorflow/compiler/tf2tensorrt/utils/py_utils.cc:38] TF-TRT Warning: Could not find TensorRT\n"
     ]
    }
   ],
   "source": [
    "import pandas as pd\n",
    "import numpy as np\n",
    "import tensorflow as tf\n",
    "\n",
    "from tensorflow import keras\n",
    "from keras import layers"
   ]
  },
  {
   "cell_type": "code",
   "execution_count": 2,
   "metadata": {},
   "outputs": [],
   "source": [
    "train_data_all = pd.read_csv(\"../data/train.csv\")\n",
    "test_data_all = pd.read_csv(\"../data/test.csv\")"
   ]
  },
  {
   "cell_type": "code",
   "execution_count": 3,
   "metadata": {},
   "outputs": [],
   "source": [
    "# replace missing values in training data\n",
    "\n",
    "def filter_df(df):\n",
    "\n",
    "    df_filtered = pd.DataFrame()\n",
    "\n",
    "    for column in df.columns:\n",
    "        dtype = df[column].dtype\n",
    "\n",
    "        # use -1 for numerical data, \"NA\" for strings (objects)\n",
    "        if dtype == \"int64\" or dtype == \"float64\":\n",
    "            val = -1\n",
    "        else:\n",
    "            val = \"NA\"\n",
    "        df[column] = df[column].fillna(val)\n",
    "\n",
    "    # ignore name, and ticket (for now)\n",
    "    df_filtered = df.drop(columns=[\"Name\", \"Ticket\"])\n",
    "\n",
    "    # convert age to float for treatment as continuous variable\n",
    "    df_filtered[\"Age\"] = df_filtered[\"Age\"].astype('float64')\n",
    "\n",
    "    return df_filtered"
   ]
  },
  {
   "cell_type": "code",
   "execution_count": 4,
   "metadata": {},
   "outputs": [],
   "source": [
    "train_data_filtered = filter_df(train_data_all).drop(columns=\"PassengerId\")\n",
    "\n",
    "test_data_filtered = filter_df(test_data_all)\n",
    "test_ids = test_data_filtered.pop(\"PassengerId\")"
   ]
  },
  {
   "cell_type": "code",
   "execution_count": 5,
   "metadata": {},
   "outputs": [],
   "source": [
    "# split into training and validation datasets\n",
    "\n",
    "val_frac = .2\n",
    "val_df = train_data_filtered.sample(frac=0.2)\n",
    "train_df = train_data_filtered.drop(val_df.index)"
   ]
  },
  {
   "cell_type": "code",
   "execution_count": 6,
   "metadata": {},
   "outputs": [],
   "source": [
    "# convert pd DataFrame to tf Dataset labelled with answers\n",
    "def dataframe_to_dataset(df):\n",
    "    \n",
    "    df = df.copy()\n",
    "    labels = df.pop(\"Survived\")\n",
    "    ds = tf.data.Dataset.from_tensor_slices((dict(df), labels))\n",
    "    ds = ds.shuffle(buffer_size=len(df))\n",
    "\n",
    "    return ds"
   ]
  },
  {
   "cell_type": "code",
   "execution_count": 7,
   "metadata": {},
   "outputs": [
    {
     "name": "stderr",
     "output_type": "stream",
     "text": [
      "2023-07-03 17:30:28.188346: E tensorflow/compiler/xla/stream_executor/cuda/cuda_driver.cc:266] failed call to cuInit: CUDA_ERROR_COMPAT_NOT_SUPPORTED_ON_DEVICE: forward compatibility was attempted on non supported HW\n",
      "2023-07-03 17:30:28.188387: I tensorflow/compiler/xla/stream_executor/cuda/cuda_diagnostics.cc:168] retrieving CUDA diagnostic information for host: hyperkube\n",
      "2023-07-03 17:30:28.188397: I tensorflow/compiler/xla/stream_executor/cuda/cuda_diagnostics.cc:175] hostname: hyperkube\n",
      "2023-07-03 17:30:28.188510: I tensorflow/compiler/xla/stream_executor/cuda/cuda_diagnostics.cc:199] libcuda reported version is: 525.125.6\n",
      "2023-07-03 17:30:28.188540: I tensorflow/compiler/xla/stream_executor/cuda/cuda_diagnostics.cc:203] kernel reported version is: 525.116.4\n",
      "2023-07-03 17:30:28.188550: E tensorflow/compiler/xla/stream_executor/cuda/cuda_diagnostics.cc:312] kernel version 525.116.4 does not match DSO version 525.125.6 -- cannot find working devices in this configuration\n"
     ]
    }
   ],
   "source": [
    "# convert to Datasets\n",
    "train_ds = dataframe_to_dataset(train_df)\n",
    "val_ds = dataframe_to_dataset(val_df)\n",
    "\n",
    "# batch Datasets\n",
    "batch_size = 32\n",
    "train_ds = train_ds.batch(batch_size)\n",
    "val_ds = val_ds.batch(batch_size)"
   ]
  },
  {
   "cell_type": "code",
   "execution_count": 8,
   "metadata": {},
   "outputs": [],
   "source": [
    "# convert test data\n",
    "test_ds = tf.data.Dataset.from_tensor_slices(dict(test_data_filtered))"
   ]
  },
  {
   "cell_type": "code",
   "execution_count": 9,
   "metadata": {},
   "outputs": [],
   "source": [
    "from tensorflow.keras.layers import StringLookup\n",
    "\n",
    "def encode_string_feature(feature, name, feature_ds):\n",
    "\n",
    "    lookup = StringLookup(output_mode=\"one_hot\")\n",
    "    lookup.adapt(feature_ds)\n",
    "\n",
    "    return lookup(feature)"
   ]
  },
  {
   "cell_type": "code",
   "execution_count": 10,
   "metadata": {},
   "outputs": [],
   "source": [
    "from tensorflow.keras.layers import IntegerLookup\n",
    "\n",
    "def encode_integer_feature(feature, name, feature_ds):\n",
    "\n",
    "    lookup = IntegerLookup(output_mode=\"one_hot\")\n",
    "    lookup.adapt(feature_ds)\n",
    "\n",
    "    return lookup(feature)"
   ]
  },
  {
   "cell_type": "code",
   "execution_count": 11,
   "metadata": {},
   "outputs": [],
   "source": [
    "from tensorflow.keras.layers import Normalization\n",
    "\n",
    "def encode_float_feature(feature, name, feature_ds):\n",
    "\n",
    "    normalizer = Normalization()\n",
    "    normalizer.adapt(feature_ds)\n",
    "    \n",
    "    return normalizer(feature)"
   ]
  },
  {
   "cell_type": "code",
   "execution_count": 12,
   "metadata": {},
   "outputs": [],
   "source": [
    "def encode_feature(feature, name, dataset):\n",
    "\n",
    "    # construct dataset with only given feature\n",
    "    feature_ds = dataset.map(lambda x, y: x[name])\n",
    "    feature_ds = feature_ds.map(lambda x: tf.expand_dims(x, -1))\n",
    "\n",
    "    # build encoder based on feature dtype\n",
    "    dtype = feature_ds.element_spec.dtype\n",
    "\n",
    "    if dtype == tf.string:\n",
    "        encoded_feature = encode_string_feature(feature, name, feature_ds)\n",
    "    elif dtype == tf.int64:\n",
    "        encoded_feature = encode_integer_feature(feature, name, feature_ds)\n",
    "    elif dtype == tf.float64:\n",
    "        encoded_feature = encode_float_feature(feature, name, feature_ds)\n",
    "    else:\n",
    "        print(\"Unexpected datatype: \" + str(dtype))\n",
    "        encoded_feature = \"AAAAaaaAA\"\n",
    "\n",
    "    return encoded_feature\n"
   ]
  },
  {
   "cell_type": "code",
   "execution_count": 13,
   "metadata": {},
   "outputs": [],
   "source": [
    "# build input layers based on feature specs from ds\n",
    "\n",
    "all_inputs = dict()\n",
    "\n",
    "features = train_ds.element_spec[0]\n",
    "\n",
    "for name, spec in features.items():\n",
    "    all_inputs[name] = keras.Input(\n",
    "        shape=(1,),\n",
    "        name=name,\n",
    "        dtype=spec.dtype\n",
    "    )"
   ]
  },
  {
   "cell_type": "code",
   "execution_count": 14,
   "metadata": {},
   "outputs": [
    {
     "name": "stderr",
     "output_type": "stream",
     "text": [
      "2023-07-03 17:30:32.394543: I tensorflow/core/common_runtime/executor.cc:1197] [/device:CPU:0] (DEBUG INFO) Executor start aborting (this does not indicate an error and you can ignore this message): INVALID_ARGUMENT: You must feed a value for placeholder tensor 'Placeholder/_0' with dtype double and shape [713]\n",
      "\t [[{{node Placeholder/_0}}]]\n",
      "2023-07-03 17:30:32.394908: I tensorflow/core/common_runtime/executor.cc:1197] [/device:CPU:0] (DEBUG INFO) Executor start aborting (this does not indicate an error and you can ignore this message): INVALID_ARGUMENT: You must feed a value for placeholder tensor 'Placeholder/_3' with dtype double and shape [713]\n",
      "\t [[{{node Placeholder/_3}}]]\n",
      "2023-07-03 17:30:32.517579: I tensorflow/core/common_runtime/executor.cc:1197] [/device:CPU:0] (DEBUG INFO) Executor start aborting (this does not indicate an error and you can ignore this message): INVALID_ARGUMENT: You must feed a value for placeholder tensor 'Placeholder/_3' with dtype double and shape [713]\n",
      "\t [[{{node Placeholder/_3}}]]\n",
      "2023-07-03 17:30:32.517992: I tensorflow/core/common_runtime/executor.cc:1197] [/device:CPU:0] (DEBUG INFO) Executor start aborting (this does not indicate an error and you can ignore this message): INVALID_ARGUMENT: You must feed a value for placeholder tensor 'Placeholder/_3' with dtype double and shape [713]\n",
      "\t [[{{node Placeholder/_3}}]]\n",
      "2023-07-03 17:30:32.600988: I tensorflow/core/common_runtime/executor.cc:1197] [/device:CPU:0] (DEBUG INFO) Executor start aborting (this does not indicate an error and you can ignore this message): INVALID_ARGUMENT: You must feed a value for placeholder tensor 'Placeholder/_3' with dtype double and shape [713]\n",
      "\t [[{{node Placeholder/_3}}]]\n",
      "2023-07-03 17:30:32.601364: I tensorflow/core/common_runtime/executor.cc:1197] [/device:CPU:0] (DEBUG INFO) Executor start aborting (this does not indicate an error and you can ignore this message): INVALID_ARGUMENT: You must feed a value for placeholder tensor 'Placeholder/_7' with dtype int64 and shape [713]\n",
      "\t [[{{node Placeholder/_7}}]]\n",
      "2023-07-03 17:30:32.766247: I tensorflow/core/common_runtime/executor.cc:1197] [/device:CPU:0] (DEBUG INFO) Executor start aborting (this does not indicate an error and you can ignore this message): INVALID_ARGUMENT: You must feed a value for placeholder tensor 'Placeholder/_1' with dtype string and shape [713]\n",
      "\t [[{{node Placeholder/_1}}]]\n",
      "2023-07-03 17:30:32.766602: I tensorflow/core/common_runtime/executor.cc:1197] [/device:CPU:0] (DEBUG INFO) Executor start aborting (this does not indicate an error and you can ignore this message): INVALID_ARGUMENT: You must feed a value for placeholder tensor 'Placeholder/_1' with dtype string and shape [713]\n",
      "\t [[{{node Placeholder/_1}}]]\n",
      "2023-07-03 17:30:32.855683: I tensorflow/core/common_runtime/executor.cc:1197] [/device:CPU:0] (DEBUG INFO) Executor start aborting (this does not indicate an error and you can ignore this message): INVALID_ARGUMENT: You must feed a value for placeholder tensor 'Placeholder/_4' with dtype int64 and shape [713]\n",
      "\t [[{{node Placeholder/_4}}]]\n",
      "2023-07-03 17:30:32.856072: I tensorflow/core/common_runtime/executor.cc:1197] [/device:CPU:0] (DEBUG INFO) Executor start aborting (this does not indicate an error and you can ignore this message): INVALID_ARGUMENT: You must feed a value for placeholder tensor 'Placeholder/_5' with dtype int64 and shape [713]\n",
      "\t [[{{node Placeholder/_5}}]]\n",
      "2023-07-03 17:30:32.946758: I tensorflow/core/common_runtime/executor.cc:1197] [/device:CPU:0] (DEBUG INFO) Executor start aborting (this does not indicate an error and you can ignore this message): INVALID_ARGUMENT: You must feed a value for placeholder tensor 'Placeholder/_0' with dtype double and shape [713]\n",
      "\t [[{{node Placeholder/_0}}]]\n",
      "2023-07-03 17:30:32.947114: I tensorflow/core/common_runtime/executor.cc:1197] [/device:CPU:0] (DEBUG INFO) Executor start aborting (this does not indicate an error and you can ignore this message): INVALID_ARGUMENT: You must feed a value for placeholder tensor 'Placeholder/_7' with dtype int64 and shape [713]\n",
      "\t [[{{node Placeholder/_7}}]]\n",
      "2023-07-03 17:30:33.142659: I tensorflow/core/common_runtime/executor.cc:1197] [/device:CPU:0] (DEBUG INFO) Executor start aborting (this does not indicate an error and you can ignore this message): INVALID_ARGUMENT: You must feed a value for placeholder tensor 'Placeholder/_4' with dtype int64 and shape [713]\n",
      "\t [[{{node Placeholder/_4}}]]\n",
      "2023-07-03 17:30:33.143018: I tensorflow/core/common_runtime/executor.cc:1197] [/device:CPU:0] (DEBUG INFO) Executor start aborting (this does not indicate an error and you can ignore this message): INVALID_ARGUMENT: You must feed a value for placeholder tensor 'Placeholder/_6' with dtype string and shape [713]\n",
      "\t [[{{node Placeholder/_6}}]]\n",
      "2023-07-03 17:30:33.232314: I tensorflow/core/common_runtime/executor.cc:1197] [/device:CPU:0] (DEBUG INFO) Executor start aborting (this does not indicate an error and you can ignore this message): INVALID_ARGUMENT: You must feed a value for placeholder tensor 'Placeholder/_8' with dtype int64 and shape [713]\n",
      "\t [[{{node Placeholder/_8}}]]\n",
      "2023-07-03 17:30:33.232680: I tensorflow/core/common_runtime/executor.cc:1197] [/device:CPU:0] (DEBUG INFO) Executor start aborting (this does not indicate an error and you can ignore this message): INVALID_ARGUMENT: You must feed a value for placeholder tensor 'Placeholder/_4' with dtype int64 and shape [713]\n",
      "\t [[{{node Placeholder/_4}}]]\n"
     ]
    }
   ],
   "source": [
    "# build individual encoding layers for each feature\n",
    "\n",
    "encodings = dict()\n",
    "\n",
    "for name, spec in features.items():\n",
    "    encodings[name] = encode_feature(\n",
    "        all_inputs[name],\n",
    "        name,\n",
    "        train_ds\n",
    "    )\n",
    "\n",
    "# concatenate feature encodings\n",
    "\n",
    "all_features = layers.concatenate(encodings.values())"
   ]
  },
  {
   "cell_type": "code",
   "execution_count": 44,
   "metadata": {},
   "outputs": [],
   "source": [
    "# build dense network from encoded features to predicted survival\n",
    "\n",
    "x = layers.Dense(128, activation=\"relu\")(all_features)\n",
    "x = layers.Dropout(0.2)(x)\n",
    "\n",
    "x = layers.Dense(32, activation=\"relu\")(x)\n",
    "\n",
    "inputs = list(all_inputs.values())\n",
    "output = layers.Dense(1, activation=\"sigmoid\")(x)\n",
    "\n",
    "model = keras.Model(list(all_inputs.values()), output)\n",
    "model.compile(\"adam\", \"binary_crossentropy\", metrics=[\"accuracy\"])"
   ]
  },
  {
   "cell_type": "code",
   "execution_count": 1,
   "metadata": {},
   "outputs": [
    {
     "ename": "NameError",
     "evalue": "name 'model' is not defined",
     "output_type": "error",
     "traceback": [
      "\u001b[0;31m---------------------------------------------------------------------------\u001b[0m",
      "\u001b[0;31mNameError\u001b[0m                                 Traceback (most recent call last)",
      "Cell \u001b[0;32mIn[1], line 2\u001b[0m\n\u001b[1;32m      1\u001b[0m \u001b[39m# train model\u001b[39;00m\n\u001b[0;32m----> 2\u001b[0m model\u001b[39m.\u001b[39mfit(train_ds, epochs\u001b[39m=\u001b[39m\u001b[39m50\u001b[39m)\n",
      "\u001b[0;31mNameError\u001b[0m: name 'model' is not defined"
     ]
    }
   ],
   "source": [
    "# train model\n",
    "model.fit(train_ds, epochs=50)"
   ]
  },
  {
   "cell_type": "code",
   "execution_count": 46,
   "metadata": {},
   "outputs": [],
   "source": [
    "test_ds = tf.data.Dataset.from_tensor_slices(dict(test_data_filtered))"
   ]
  },
  {
   "cell_type": "code",
   "execution_count": 47,
   "metadata": {},
   "outputs": [
    {
     "name": "stdout",
     "output_type": "stream",
     "text": [
      "14/14 [==============================] - 0s 1ms/step\n"
     ]
    }
   ],
   "source": [
    "predictions = model.predict(dict(test_data_filtered))"
   ]
  },
  {
   "cell_type": "code",
   "execution_count": 49,
   "metadata": {},
   "outputs": [],
   "source": [
    "labelled_predictions = pd.DataFrame()\n",
    "labelled_predictions[\"PassengerId\"] = test_ids\n",
    "labelled_predictions[\"Survived\"] = [round(pred[0]) for pred in predictions]"
   ]
  },
  {
   "cell_type": "code",
   "execution_count": 88,
   "metadata": {},
   "outputs": [],
   "source": [
    "labelled_predictions.to_csv(\"../submissions/deep_submission.csv\", index=False)"
   ]
  }
 ],
 "metadata": {
  "kernelspec": {
   "display_name": "kaggle",
   "language": "python",
   "name": "python3"
  },
  "language_info": {
   "codemirror_mode": {
    "name": "ipython",
    "version": 3
   },
   "file_extension": ".py",
   "mimetype": "text/x-python",
   "name": "python",
   "nbconvert_exporter": "python",
   "pygments_lexer": "ipython3",
   "version": "3.11.3"
  },
  "orig_nbformat": 4
 },
 "nbformat": 4,
 "nbformat_minor": 2
}
