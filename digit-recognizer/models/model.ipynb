{
 "cells": [
  {
   "cell_type": "code",
   "execution_count": 352,
   "metadata": {},
   "outputs": [],
   "source": [
    "import pandas as pd\n",
    "import numpy as np\n",
    "\n",
    "import tensorflow as tf\n",
    "from tensorflow import keras\n",
    "from tensorflow.keras import layers\n",
    "\n",
    "from PIL import Image"
   ]
  },
  {
   "cell_type": "code",
   "execution_count": 353,
   "metadata": {},
   "outputs": [],
   "source": [
    "train_df = pd.read_csv(\"../data/train.csv\")\n",
    "test_df = pd.read_csv(\"../data/test.csv\")"
   ]
  },
  {
   "cell_type": "code",
   "execution_count": 354,
   "metadata": {},
   "outputs": [],
   "source": [
    "# split train and val data\n",
    "\n",
    "val_split = .2\n",
    "\n",
    "val_df = train_df.sample(frac=0.2)\n",
    "train_df = train_df.drop(val_df.index)"
   ]
  },
  {
   "cell_type": "code",
   "execution_count": 357,
   "metadata": {},
   "outputs": [],
   "source": [
    "# convert labels to categorical encoding\n",
    "\n",
    "train_labels = pd.get_dummies(train_df.pop(\"label\")).values\n",
    "val_labels = pd.get_dummies(val_df.pop(\"label\")).values"
   ]
  },
  {
   "cell_type": "code",
   "execution_count": 358,
   "metadata": {},
   "outputs": [],
   "source": [
    "# reshape images to 2D pixel grid with 1 channel\n",
    "\n",
    "def df_to_pixels(df, img_shape):\n",
    "    pixels = df.apply(lambda x: x.values.reshape(img_shape), axis=1)\n",
    "    pixels = np.asarray(list(pixels.values)).astype('float32')\n",
    "    return pixels"
   ]
  },
  {
   "cell_type": "code",
   "execution_count": 359,
   "metadata": {},
   "outputs": [],
   "source": [
    "img_shape = (28,28,1)\n",
    "\n",
    "train_pixels = df_to_pixels(train_df, img_shape)\n",
    "val_pixels = df_to_pixels(val_df, img_shape)\n",
    "test_pixels = df_to_pixels(test_df, img_shape)"
   ]
  },
  {
   "cell_type": "code",
   "execution_count": 385,
   "metadata": {},
   "outputs": [],
   "source": [
    "# build tensorflow datasets\n",
    "\n",
    "batch_size = 128\n",
    "\n",
    "train_ds = tf.data.Dataset.from_tensor_slices((train_pixels, train_labels)).batch(batch_size)\n",
    "val_ds = tf.data.Dataset.from_tensor_slices((val_pixels, val_labels)).batch(batch_size)\n",
    "test_ds = tf.data.Dataset.from_tensor_slices(test_pixels).batch(1)"
   ]
  },
  {
   "attachments": {},
   "cell_type": "markdown",
   "metadata": {},
   "source": [
    "### Build convolutional neural net"
   ]
  },
  {
   "cell_type": "code",
   "execution_count": 375,
   "metadata": {},
   "outputs": [],
   "source": [
    "inputs = keras.Input(shape=(28, 28, 1))\n",
    "\n",
    "x = layers.Rescaling(scale = 1./255)(inputs)\n",
    "x = layers.Conv2D(\n",
    "        filters=6,\n",
    "        kernel_size=(5,5),\n",
    "        activation='relu',\n",
    "        padding='same'\n",
    "    )(x)\n",
    "x = layers.AveragePooling2D(strides=2,padding='same')(x)\n",
    "x = layers.Flatten()(x)\n",
    "x = layers.Dense(64, activation='relu')(x)\n",
    "\n",
    "outputs = layers.Dense(10, activation='softmax')(x)"
   ]
  },
  {
   "cell_type": "code",
   "execution_count": 376,
   "metadata": {},
   "outputs": [],
   "source": [
    "model = keras.Model(inputs=inputs, outputs=outputs, name=\"mnist\")"
   ]
  },
  {
   "cell_type": "code",
   "execution_count": 377,
   "metadata": {},
   "outputs": [],
   "source": [
    "model.compile(\n",
    "    loss='categorical_crossentropy',\n",
    "    metrics=['accuracy'],\n",
    "    optimizer='adam'\n",
    ")"
   ]
  },
  {
   "cell_type": "code",
   "execution_count": 378,
   "metadata": {},
   "outputs": [
    {
     "name": "stdout",
     "output_type": "stream",
     "text": [
      "Model: \"mnist\"\n",
      "_________________________________________________________________\n",
      " Layer (type)                Output Shape              Param #   \n",
      "=================================================================\n",
      " input_51 (InputLayer)       [(None, 28, 28, 1)]       0         \n",
      "                                                                 \n",
      " rescaling_49 (Rescaling)    (None, 28, 28, 1)         0         \n",
      "                                                                 \n",
      " conv2d_47 (Conv2D)          (None, 28, 28, 6)         156       \n",
      "                                                                 \n",
      " average_pooling2d_30 (Avera  (None, 14, 14, 6)        0         \n",
      " gePooling2D)                                                    \n",
      "                                                                 \n",
      " flatten_17 (Flatten)        (None, 1176)              0         \n",
      "                                                                 \n",
      " dense_38 (Dense)            (None, 64)                75328     \n",
      "                                                                 \n",
      " dense_39 (Dense)            (None, 10)                650       \n",
      "                                                                 \n",
      "=================================================================\n",
      "Total params: 76,134\n",
      "Trainable params: 76,134\n",
      "Non-trainable params: 0\n",
      "_________________________________________________________________\n"
     ]
    }
   ],
   "source": [
    "model.summary()"
   ]
  },
  {
   "cell_type": "code",
   "execution_count": 379,
   "metadata": {},
   "outputs": [
    {
     "name": "stdout",
     "output_type": "stream",
     "text": [
      "Epoch 1/5\n",
      "263/263 [==============================] - 5s 16ms/step - loss: 0.5011 - accuracy: 0.8669 - val_loss: 0.1976 - val_accuracy: 0.9433\n",
      "Epoch 2/5\n",
      "263/263 [==============================] - 4s 16ms/step - loss: 0.1631 - accuracy: 0.9535 - val_loss: 0.1354 - val_accuracy: 0.9624\n",
      "Epoch 3/5\n",
      "263/263 [==============================] - 4s 15ms/step - loss: 0.1204 - accuracy: 0.9647 - val_loss: 0.1186 - val_accuracy: 0.9661\n",
      "Epoch 4/5\n",
      "263/263 [==============================] - 4s 15ms/step - loss: 0.1003 - accuracy: 0.9699 - val_loss: 0.1107 - val_accuracy: 0.9668\n",
      "Epoch 5/5\n",
      "263/263 [==============================] - 4s 16ms/step - loss: 0.0884 - accuracy: 0.9733 - val_loss: 0.1082 - val_accuracy: 0.9682\n"
     ]
    },
    {
     "data": {
      "text/plain": [
       "<keras.callbacks.History at 0x3662ca090>"
      ]
     },
     "execution_count": 379,
     "metadata": {},
     "output_type": "execute_result"
    }
   ],
   "source": [
    "model.fit(\n",
    "    train_ds,\n",
    "    validation_data=val_ds,\n",
    "    epochs=5)"
   ]
  },
  {
   "cell_type": "code",
   "execution_count": 387,
   "metadata": {},
   "outputs": [
    {
     "name": "stdout",
     "output_type": "stream",
     "text": [
      "28000/28000 [==============================] - 49s 2ms/step\n"
     ]
    }
   ],
   "source": [
    "predictions = model.predict(test_ds)"
   ]
  },
  {
   "cell_type": "code",
   "execution_count": 389,
   "metadata": {},
   "outputs": [],
   "source": [
    "numerical_predictions = np.argmax(predictions, axis=1)"
   ]
  },
  {
   "cell_type": "code",
   "execution_count": 396,
   "metadata": {},
   "outputs": [],
   "source": [
    "output_df = pd.read_csv(\"../submissions/sample_submission.csv\")\n",
    "output_df[\"Label\"] = numerical_predictions"
   ]
  },
  {
   "cell_type": "code",
   "execution_count": 400,
   "metadata": {},
   "outputs": [],
   "source": [
    "output_df.to_csv(\"../submissions/simple_convnet.csv\", index=False)"
   ]
  }
 ],
 "metadata": {
  "kernelspec": {
   "display_name": "kaggle",
   "language": "python",
   "name": "python3"
  },
  "language_info": {
   "codemirror_mode": {
    "name": "ipython",
    "version": 3
   },
   "file_extension": ".py",
   "mimetype": "text/x-python",
   "name": "python",
   "nbconvert_exporter": "python",
   "pygments_lexer": "ipython3",
   "version": "3.11.4"
  },
  "orig_nbformat": 4
 },
 "nbformat": 4,
 "nbformat_minor": 2
}
