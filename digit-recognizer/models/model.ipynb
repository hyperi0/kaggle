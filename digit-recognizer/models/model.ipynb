{
 "cells": [
  {
   "cell_type": "code",
   "execution_count": 1,
   "metadata": {},
   "outputs": [
    {
     "name": "stderr",
     "output_type": "stream",
     "text": [
      "2023-07-13 11:26:18.334522: I tensorflow/tsl/cuda/cudart_stub.cc:28] Could not find cuda drivers on your machine, GPU will not be used.\n",
      "2023-07-13 11:26:18.446270: I tensorflow/tsl/cuda/cudart_stub.cc:28] Could not find cuda drivers on your machine, GPU will not be used.\n",
      "2023-07-13 11:26:18.447004: I tensorflow/core/platform/cpu_feature_guard.cc:182] This TensorFlow binary is optimized to use available CPU instructions in performance-critical operations.\n",
      "To enable the following instructions: AVX2 FMA, in other operations, rebuild TensorFlow with the appropriate compiler flags.\n",
      "2023-07-13 11:26:19.377607: W tensorflow/compiler/tf2tensorrt/utils/py_utils.cc:38] TF-TRT Warning: Could not find TensorRT\n"
     ]
    }
   ],
   "source": [
    "import pandas as pd\n",
    "import numpy as np\n",
    "\n",
    "import tensorflow as tf\n",
    "from tensorflow import keras\n",
    "from tensorflow.keras import layers\n",
    "\n",
    "from PIL import Image"
   ]
  },
  {
   "cell_type": "code",
   "execution_count": 4,
   "metadata": {},
   "outputs": [
    {
     "name": "stderr",
     "output_type": "stream",
     "text": [
      "2023-07-13 11:26:48.155073: I tensorflow/compiler/xla/stream_executor/cuda/cuda_gpu_executor.cc:996] successful NUMA node read from SysFS had negative value (-1), but there must be at least one NUMA node, so returning NUMA node zero. See more at https://github.com/torvalds/linux/blob/v6.0/Documentation/ABI/testing/sysfs-bus-pci#L344-L355\n",
      "2023-07-13 11:26:48.236165: W tensorflow/core/common_runtime/gpu/gpu_device.cc:1956] Cannot dlopen some GPU libraries. Please make sure the missing libraries mentioned above are installed properly if you would like to use GPU. Follow the guide at https://www.tensorflow.org/install/gpu for how to download and setup the required libraries for your platform.\n",
      "Skipping registering GPU devices...\n"
     ]
    },
    {
     "data": {
      "text/plain": [
       "[]"
      ]
     },
     "execution_count": 4,
     "metadata": {},
     "output_type": "execute_result"
    }
   ],
   "source": [
    "tf.config.list_physical_devices('GPU')"
   ]
  },
  {
   "cell_type": "code",
   "execution_count": 3,
   "metadata": {},
   "outputs": [],
   "source": [
    "train_df = pd.read_csv(\"../data/train.csv\")\n",
    "test_df = pd.read_csv(\"../data/test.csv\")"
   ]
  },
  {
   "cell_type": "code",
   "execution_count": 4,
   "metadata": {},
   "outputs": [],
   "source": [
    "# split train and val data\n",
    "\n",
    "val_split = .2\n",
    "\n",
    "val_df = train_df.sample(frac=0.2)\n",
    "train_df = train_df.drop(val_df.index)"
   ]
  },
  {
   "cell_type": "code",
   "execution_count": 5,
   "metadata": {},
   "outputs": [],
   "source": [
    "# convert labels to categorical encoding\n",
    "\n",
    "train_labels = pd.get_dummies(train_df.pop(\"label\")).values\n",
    "val_labels = pd.get_dummies(val_df.pop(\"label\")).values"
   ]
  },
  {
   "cell_type": "code",
   "execution_count": 6,
   "metadata": {},
   "outputs": [],
   "source": [
    "# reshape images to 2D pixel grid with 1 channel\n",
    "\n",
    "def df_to_pixels(df, img_shape):\n",
    "    pixels = df.apply(lambda x: x.values.reshape(img_shape), axis=1)\n",
    "    pixels = np.asarray(list(pixels.values)).astype('float32')\n",
    "    return pixels"
   ]
  },
  {
   "cell_type": "code",
   "execution_count": 7,
   "metadata": {},
   "outputs": [],
   "source": [
    "img_shape = (28,28,1)\n",
    "\n",
    "train_pixels = df_to_pixels(train_df, img_shape)\n",
    "val_pixels = df_to_pixels(val_df, img_shape)\n",
    "test_pixels = df_to_pixels(test_df, img_shape)"
   ]
  },
  {
   "cell_type": "code",
   "execution_count": 8,
   "metadata": {},
   "outputs": [
    {
     "name": "stderr",
     "output_type": "stream",
     "text": [
      "2023-07-13 11:06:06.352723: I tensorflow/compiler/xla/stream_executor/cuda/cuda_gpu_executor.cc:996] successful NUMA node read from SysFS had negative value (-1), but there must be at least one NUMA node, so returning NUMA node zero. See more at https://github.com/torvalds/linux/blob/v6.0/Documentation/ABI/testing/sysfs-bus-pci#L344-L355\n",
      "2023-07-13 11:06:06.353509: W tensorflow/core/common_runtime/gpu/gpu_device.cc:1956] Cannot dlopen some GPU libraries. Please make sure the missing libraries mentioned above are installed properly if you would like to use GPU. Follow the guide at https://www.tensorflow.org/install/gpu for how to download and setup the required libraries for your platform.\n",
      "Skipping registering GPU devices...\n"
     ]
    }
   ],
   "source": [
    "# build tensorflow datasets\n",
    "\n",
    "batch_size = 128\n",
    "\n",
    "train_ds = tf.data.Dataset.from_tensor_slices((train_pixels, train_labels)).batch(batch_size)\n",
    "val_ds = tf.data.Dataset.from_tensor_slices((val_pixels, val_labels)).batch(batch_size)\n",
    "test_ds = tf.data.Dataset.from_tensor_slices(test_pixels).batch(1)"
   ]
  },
  {
   "attachments": {},
   "cell_type": "markdown",
   "metadata": {},
   "source": [
    "### Build convolutional neural net"
   ]
  },
  {
   "cell_type": "code",
   "execution_count": 13,
   "metadata": {},
   "outputs": [],
   "source": [
    "inputs = keras.Input(shape=(28, 28, 1))\n",
    "\n",
    "x = layers.Rescaling(scale = 1./255)(inputs)\n",
    "\n",
    "x = layers.Conv2D(\n",
    "        filters=6,\n",
    "        kernel_size=(5,5),\n",
    "        activation='relu',\n",
    "        padding='same'\n",
    "    )(x)\n",
    "\n",
    "x = layers.AveragePooling2D(strides=2,padding='same')(x)\n",
    "\n",
    "x = layers.Conv2D(\n",
    "        filters=16,\n",
    "        kernel_size=(5,5),\n",
    "        activation='relu',\n",
    "        padding='same'\n",
    "    )(x)\n",
    "\n",
    "x = layers.AveragePooling2D(strides=2,padding='same')(x)\n",
    "\n",
    "x = layers.Flatten()(x)\n",
    "x = layers.Dense(120, activation='relu')(x)\n",
    "x = layers.Dense(84, activation='relu')(x)\n",
    "\n",
    "outputs = layers.Dense(10, activation='softmax')(x)"
   ]
  },
  {
   "cell_type": "code",
   "execution_count": 14,
   "metadata": {},
   "outputs": [],
   "source": [
    "model = keras.Model(inputs=inputs, outputs=outputs, name=\"mnist\")"
   ]
  },
  {
   "cell_type": "code",
   "execution_count": 15,
   "metadata": {},
   "outputs": [],
   "source": [
    "model.compile(\n",
    "    loss='categorical_crossentropy',\n",
    "    metrics=['accuracy'],\n",
    "    optimizer='adam'\n",
    ")"
   ]
  },
  {
   "cell_type": "code",
   "execution_count": 16,
   "metadata": {},
   "outputs": [
    {
     "name": "stdout",
     "output_type": "stream",
     "text": [
      "Model: \"mnist\"\n",
      "_________________________________________________________________\n",
      " Layer (type)                Output Shape              Param #   \n",
      "=================================================================\n",
      " input_3 (InputLayer)        [(None, 28, 28, 1)]       0         \n",
      "                                                                 \n",
      " rescaling_2 (Rescaling)     (None, 28, 28, 1)         0         \n",
      "                                                                 \n",
      " conv2d_4 (Conv2D)           (None, 28, 28, 6)         156       \n",
      "                                                                 \n",
      " average_pooling2d_4 (Averag  (None, 14, 14, 6)        0         \n",
      " ePooling2D)                                                     \n",
      "                                                                 \n",
      " conv2d_5 (Conv2D)           (None, 14, 14, 16)        2416      \n",
      "                                                                 \n",
      " average_pooling2d_5 (Averag  (None, 7, 7, 16)         0         \n",
      " ePooling2D)                                                     \n",
      "                                                                 \n",
      " flatten_2 (Flatten)         (None, 784)               0         \n",
      "                                                                 \n",
      " dense_6 (Dense)             (None, 120)               94200     \n",
      "                                                                 \n",
      " dense_7 (Dense)             (None, 84)                10164     \n",
      "                                                                 \n",
      " dense_8 (Dense)             (None, 10)                850       \n",
      "                                                                 \n",
      "=================================================================\n",
      "Total params: 107,786\n",
      "Trainable params: 107,786\n",
      "Non-trainable params: 0\n",
      "_________________________________________________________________\n"
     ]
    }
   ],
   "source": [
    "model.summary()"
   ]
  },
  {
   "cell_type": "code",
   "execution_count": 17,
   "metadata": {},
   "outputs": [
    {
     "name": "stdout",
     "output_type": "stream",
     "text": [
      "Epoch 1/10\n"
     ]
    },
    {
     "name": "stderr",
     "output_type": "stream",
     "text": [
      "2023-07-13 11:09:14.141092: I tensorflow/core/common_runtime/executor.cc:1197] [/device:CPU:0] (DEBUG INFO) Executor start aborting (this does not indicate an error and you can ignore this message): INVALID_ARGUMENT: You must feed a value for placeholder tensor 'Placeholder/_1' with dtype bool and shape [33600,10]\n",
      "\t [[{{node Placeholder/_1}}]]\n"
     ]
    },
    {
     "name": "stdout",
     "output_type": "stream",
     "text": [
      "261/263 [============================>.] - ETA: 0s - loss: 0.4745 - accuracy: 0.8540"
     ]
    },
    {
     "name": "stderr",
     "output_type": "stream",
     "text": [
      "2023-07-13 11:09:18.711506: I tensorflow/core/common_runtime/executor.cc:1197] [/device:CPU:0] (DEBUG INFO) Executor start aborting (this does not indicate an error and you can ignore this message): INVALID_ARGUMENT: You must feed a value for placeholder tensor 'Placeholder/_1' with dtype bool and shape [8400,10]\n",
      "\t [[{{node Placeholder/_1}}]]\n"
     ]
    },
    {
     "name": "stdout",
     "output_type": "stream",
     "text": [
      "263/263 [==============================] - 5s 16ms/step - loss: 0.4730 - accuracy: 0.8545 - val_loss: 0.1956 - val_accuracy: 0.9398\n",
      "Epoch 2/10\n",
      "263/263 [==============================] - 4s 15ms/step - loss: 0.1363 - accuracy: 0.9584 - val_loss: 0.1089 - val_accuracy: 0.9670\n",
      "Epoch 3/10\n",
      "263/263 [==============================] - 4s 15ms/step - loss: 0.0908 - accuracy: 0.9719 - val_loss: 0.0873 - val_accuracy: 0.9727\n",
      "Epoch 4/10\n",
      "263/263 [==============================] - 4s 16ms/step - loss: 0.0699 - accuracy: 0.9783 - val_loss: 0.0822 - val_accuracy: 0.9727\n",
      "Epoch 5/10\n",
      "263/263 [==============================] - 4s 16ms/step - loss: 0.0578 - accuracy: 0.9814 - val_loss: 0.0748 - val_accuracy: 0.9750\n",
      "Epoch 6/10\n",
      "263/263 [==============================] - 4s 15ms/step - loss: 0.0484 - accuracy: 0.9845 - val_loss: 0.0731 - val_accuracy: 0.9770\n",
      "Epoch 7/10\n",
      "263/263 [==============================] - 4s 15ms/step - loss: 0.0416 - accuracy: 0.9870 - val_loss: 0.0708 - val_accuracy: 0.9787\n",
      "Epoch 8/10\n",
      "263/263 [==============================] - 4s 15ms/step - loss: 0.0368 - accuracy: 0.9884 - val_loss: 0.0693 - val_accuracy: 0.9800\n",
      "Epoch 9/10\n",
      "263/263 [==============================] - 4s 16ms/step - loss: 0.0335 - accuracy: 0.9894 - val_loss: 0.0736 - val_accuracy: 0.9795\n",
      "Epoch 10/10\n",
      "263/263 [==============================] - 4s 16ms/step - loss: 0.0292 - accuracy: 0.9913 - val_loss: 0.0728 - val_accuracy: 0.9807\n"
     ]
    },
    {
     "data": {
      "text/plain": [
       "<keras.callbacks.History at 0x7ff395312f90>"
      ]
     },
     "execution_count": 17,
     "metadata": {},
     "output_type": "execute_result"
    }
   ],
   "source": [
    "model.fit(\n",
    "    train_ds,\n",
    "    validation_data=val_ds,\n",
    "    epochs=10)"
   ]
  },
  {
   "cell_type": "code",
   "execution_count": 18,
   "metadata": {},
   "outputs": [
    {
     "name": "stdout",
     "output_type": "stream",
     "text": [
      "   79/28000 [..............................] - ETA: 35s   "
     ]
    },
    {
     "name": "stderr",
     "output_type": "stream",
     "text": [
      "2023-07-13 11:10:02.028208: I tensorflow/core/common_runtime/executor.cc:1197] [/device:CPU:0] (DEBUG INFO) Executor start aborting (this does not indicate an error and you can ignore this message): INVALID_ARGUMENT: You must feed a value for placeholder tensor 'Placeholder/_0' with dtype float and shape [28000,28,28,1]\n",
      "\t [[{{node Placeholder/_0}}]]\n"
     ]
    },
    {
     "name": "stdout",
     "output_type": "stream",
     "text": [
      "28000/28000 [==============================] - 40s 1ms/step\n"
     ]
    }
   ],
   "source": [
    "predictions = model.predict(test_ds)"
   ]
  },
  {
   "cell_type": "code",
   "execution_count": 19,
   "metadata": {},
   "outputs": [],
   "source": [
    "numerical_predictions = np.argmax(predictions, axis=1)"
   ]
  },
  {
   "cell_type": "code",
   "execution_count": 20,
   "metadata": {},
   "outputs": [],
   "source": [
    "output_df = pd.read_csv(\"../submissions/sample_submission.csv\")\n",
    "output_df[\"Label\"] = numerical_predictions"
   ]
  },
  {
   "cell_type": "code",
   "execution_count": 21,
   "metadata": {},
   "outputs": [],
   "source": [
    "output_df.to_csv(\"../submissions/lenet_copy.csv\", index=False)"
   ]
  }
 ],
 "metadata": {
  "kernelspec": {
   "display_name": "kaggle",
   "language": "python",
   "name": "python3"
  },
  "language_info": {
   "codemirror_mode": {
    "name": "ipython",
    "version": 3
   },
   "file_extension": ".py",
   "mimetype": "text/x-python",
   "name": "python",
   "nbconvert_exporter": "python",
   "pygments_lexer": "ipython3",
   "version": "3.11.3"
  },
  "orig_nbformat": 4
 },
 "nbformat": 4,
 "nbformat_minor": 2
}
