{
 "metadata": {
  "language_info": {
   "codemirror_mode": {
    "name": "ipython",
    "version": 3
   },
   "file_extension": ".py",
   "mimetype": "text/x-python",
   "name": "python",
   "nbconvert_exporter": "python",
   "pygments_lexer": "ipython3",
   "version": "3.8.2"
  },
  "orig_nbformat": 2,
  "kernelspec": {
   "name": "python3",
   "display_name": "Python 3.8.2 64-bit"
  },
  "interpreter": {
   "hash": "31f2aee4e71d21fbe5cf8b01ff0e069b9275f58929596ceb00d14d90e3e16cd6"
  }
 },
 "nbformat": 4,
 "nbformat_minor": 2,
 "cells": [
  {
   "source": [
    "# Kaggle Titanic Competition"
   ],
   "cell_type": "markdown",
   "metadata": {}
  },
  {
   "source": [
    "## Import raw data"
   ],
   "cell_type": "markdown",
   "metadata": {}
  },
  {
   "cell_type": "code",
   "execution_count": 7,
   "metadata": {
    "tags": []
   },
   "outputs": [],
   "source": [
    "import csv\n",
    "\n",
    "with open('data/train.csv',newline='') as csvFile:\n",
    "\n",
    "    reader = csv.reader(csvFile, delimiter=',')\n",
    "\n",
    "    l = list(reader)\n",
    "    header = l[0]\n",
    "    rawData = l[1:]"
   ]
  },
  {
   "source": [
    "## Get normalized numeric data"
   ],
   "cell_type": "markdown",
   "metadata": {}
  },
  {
   "source": [
    "# convert gender and embark info to numeric data\n",
    "data = []\n",
    "numericFields = [2,5,6,7,9]\n",
    "convertFields = [4,11]\n",
    "\n",
    "def getNumericDict(rawData, field):\n",
    "    allData = {passenger[field] for passenger in rawData}\n",
    "\n",
    "    numericDict = {}\n",
    "    i = 0\n",
    "\n",
    "    for datum in allData:\n",
    "        numericDict[datum] = i\n",
    "        i += 1\n",
    "\n",
    "    return numericDict\n",
    "\n",
    "numericDicts = {field:getNumericDict(rawData,field) for field in convertFields}\n",
    "\n",
    "for passenger in rawData:\n",
    "    numeric = [passenger[i] for i in numericFields]\n",
    "    converted = [numericDicts[i][passenger[i]] for i in convertFields]\n",
    "\n",
    "    passengerData = [float(f) if f!='' else 0 for f in numeric+converted]\n",
    "    data.append(passengerData)\n"
   ],
   "cell_type": "code",
   "metadata": {},
   "execution_count": 39,
   "outputs": []
  },
  {
   "cell_type": "code",
   "execution_count": null,
   "metadata": {},
   "outputs": [],
   "source": [
    "# normalize data between 0 and 1\n",
    "numFields = len(numericFields + convertFields)\n",
    "\n",
    "fieldLows = [min([passenger[field] for passenger in data]) \\\n",
    "    for field in range(numFields)]\n",
    "\n",
    "fieldHighs = [max([passenger[field] for passeng# normalize data between 0 and 1\n",
    "numFields = len(numericFields + convertFields)\n",
    "\n",
    "fieldLows = [min([passenger[field] for passenger in data]) \\\n",
    "    for field in range(numFields)]\n",
    "\n",
    "fieldHighs = [max([passenger[field] for passenger in data]) \\\n",
    "    for field in range(numFields)]\n",
    "\n",
    "trainData = [[(passenger[field]-fieldLows[field])/ \\\n",
    "    (fieldHighs[field]-fieldLows[field]) \\\n",
    "    for field in range(numFields)] for passenger in data]"
   ]
  }
 ]
}